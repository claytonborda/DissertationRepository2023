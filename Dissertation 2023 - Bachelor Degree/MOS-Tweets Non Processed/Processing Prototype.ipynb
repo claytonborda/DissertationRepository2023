{
 "cells": [
  {
   "cell_type": "code",
   "execution_count": 8,
   "metadata": {},
   "outputs": [],
   "source": [
    "import pandas as pd\n",
    "import numpy as np \n",
    "import matplotlib as plt \n",
    "import re\n",
    "from sklearn.utils import shuffle\n",
    "\n",
    "tweets = pd.read_excel('WolvesMOS_NP.xlsx', engine='openpyxl')\n",
    "\n",
    "def preprocess_text(text):\n",
    "    # Convert to lowercase\n",
    "    text = str(text).lower()\n",
    "    # Remove URLs\n",
    "    text = re.sub(r'http\\S+', '', text)\n",
    "    # Remove mentions\n",
    "    text = re.sub(r'@\\w+', '', text)\n",
    "    # Remove hashtags\n",
    "    text = re.sub(r'#\\w+', '', text)\n",
    "    # Remove punctuation\n",
    "    text = re.sub(r'[^\\w\\s]', '', text)\n",
    "    # Remove whitespace\n",
    "    text = text.strip()\n",
    "    \n",
    "    return text\n",
    "\n",
    "# Apply the preprocessing function to the 'text' column\n",
    "tweets['processed_text'] = tweets['Content'].apply(preprocess_text)\n",
    "tweets = shuffle(tweets).reset_index(drop=True)\n",
    "\n",
    "tweets.to_csv('WolvesMOSp.csv', index=False)"
   ]
  },
  {
   "cell_type": "code",
   "execution_count": 12,
   "metadata": {},
   "outputs": [],
   "source": [
    "tweets_from_csv = pd.read_csv('LeedsMOSP.csv')\n",
    "\n",
    "# Function to remove floats and convert column to string type\n",
    "def remove_floats(column):\n",
    "    return column.astype(str).replace('\\.0$', '', regex=True)\n",
    "\n",
    "# Iterate over the DataFrame columns and apply the remove_floats function\n",
    "for col in tweets_from_csv.columns:\n",
    "    if tweets_from_csv[col].dtype == np.float64:\n",
    "        tweets_from_csv[col] = remove_floats(tweets_from_csv[col])\n",
    "\n",
    "# Save the DataFrame back to a CSV file\n",
    "tweets_from_csv.to_csv('LeedsMOSP_no_floats.csv', index=False)"
   ]
  }
 ],
 "metadata": {
  "kernelspec": {
   "display_name": "gpu-ienv",
   "language": "python",
   "name": "gpu-ienv"
  },
  "language_info": {
   "codemirror_mode": {
    "name": "ipython",
    "version": 3
   },
   "file_extension": ".py",
   "mimetype": "text/x-python",
   "name": "python",
   "nbconvert_exporter": "python",
   "pygments_lexer": "ipython3",
   "version": "3.9.16"
  },
  "orig_nbformat": 4
 },
 "nbformat": 4,
 "nbformat_minor": 2
}
