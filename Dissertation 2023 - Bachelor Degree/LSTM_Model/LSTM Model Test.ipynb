{
 "cells": [
  {
   "cell_type": "code",
   "execution_count": 6,
   "metadata": {},
   "outputs": [
    {
     "name": "stdout",
     "output_type": "stream",
     "text": [
      "1/1 [==============================] - 0s 365ms/step\n"
     ]
    }
   ],
   "source": [
    "import numpy as np\n",
    "import pandas as pd\n",
    "from tensorflow.keras.models import load_model\n",
    "from tensorflow.keras.preprocessing.sequence import pad_sequences\n",
    "from tensorflow.keras.preprocessing.text import Tokenizer\n",
    "\n",
    "# Load the LSTM model\n",
    "model = load_model('lstm_sentiment_modegov.h5')\n",
    "\n",
    "csv_file_path = 'SampleTweets.csv'\n",
    "df = pd.read_csv(csv_file_path)\n",
    "\n",
    "# Tokenize and pad the sequences\n",
    "max_len = 100  # Set the same maximum length used during model training\n",
    "tokenizer = Tokenizer(num_words=30000)  # Set the same num_words used during model training\n",
    "tokenizer.fit_on_texts(df['processed_text'])\n",
    "sequences = tokenizer.texts_to_sequences(df['processed_text'])\n",
    "padded_sequences = pad_sequences(sequences, maxlen=max_len)\n",
    "\n",
    "# Make predictions\n",
    "predictions = model.predict(padded_sequences)\n",
    "\n",
    "# Convert predictions to sentiment labels\n",
    "sentiment_labels = {0: 'neutral', 1: 'positive', 2: 'negative'}\n",
    "sentiments = np.argmax(predictions, axis=1)\n",
    "sentiments = [sentiment_labels[i] for i in sentiments]\n",
    "\n",
    "# Add a new column with the sentiment\n",
    "df['sentiment'] = sentiments\n",
    "\n",
    "# Save the dataframe to a new CSV file\n",
    "df.to_csv('sentiments2.csv', index=False)"
   ]
  },
  {
   "cell_type": "code",
   "execution_count": 10,
   "metadata": {},
   "outputs": [
    {
     "name": "stdout",
     "output_type": "stream",
     "text": [
      "Model: \"sequential_2\"\n",
      "_________________________________________________________________\n",
      " Layer (type)                Output Shape              Param #   \n",
      "=================================================================\n",
      " embedding_2 (Embedding)     (None, 100, 128)          2560000   \n",
      "                                                                 \n",
      " bidirectional_2 (Bidirectio  (None, 392)              509600    \n",
      " nal)                                                            \n",
      "                                                                 \n",
      " dense_2 (Dense)             (None, 3)                 1179      \n",
      "                                                                 \n",
      "=================================================================\n",
      "Total params: 3,070,779\n",
      "Trainable params: 3,070,779\n",
      "Non-trainable params: 0\n",
      "_________________________________________________________________\n",
      "None\n"
     ]
    }
   ],
   "source": [
    "from tensorflow.keras.models import load_model\n",
    "\n",
    "# Load the saved model\n",
    "model = load_model('lstm_sentiment_model.h5')\n",
    "\n",
    "# Print the model architecture\n",
    "print(model.summary())\n"
   ]
  },
  {
   "cell_type": "code",
   "execution_count": 5,
   "metadata": {},
   "outputs": [
    {
     "data": {
      "text/html": [
       "<div>\n",
       "<style scoped>\n",
       "    .dataframe tbody tr th:only-of-type {\n",
       "        vertical-align: middle;\n",
       "    }\n",
       "\n",
       "    .dataframe tbody tr th {\n",
       "        vertical-align: top;\n",
       "    }\n",
       "\n",
       "    .dataframe thead th {\n",
       "        text-align: right;\n",
       "    }\n",
       "</style>\n",
       "<table border=\"1\" class=\"dataframe\">\n",
       "  <thead>\n",
       "    <tr style=\"text-align: right;\">\n",
       "      <th></th>\n",
       "      <th>processed_text</th>\n",
       "      <th>sentiment</th>\n",
       "    </tr>\n",
       "  </thead>\n",
       "  <tbody>\n",
       "    <tr>\n",
       "      <th>0</th>\n",
       "      <td>praying for 3 points tomorrow come on boys</td>\n",
       "      <td>positive</td>\n",
       "    </tr>\n",
       "    <tr>\n",
       "      <th>1</th>\n",
       "      <td>love the passion looks an interesting buy to c...</td>\n",
       "      <td>neutral</td>\n",
       "    </tr>\n",
       "    <tr>\n",
       "      <th>2</th>\n",
       "      <td>bielsa has been impressed by what he has seen</td>\n",
       "      <td>neutral</td>\n",
       "    </tr>\n",
       "    <tr>\n",
       "      <th>3</th>\n",
       "      <td>stuart dallas produced an impressive performan...</td>\n",
       "      <td>neutral</td>\n",
       "    </tr>\n",
       "    <tr>\n",
       "      <th>4</th>\n",
       "      <td>he was taken off as a precaution</td>\n",
       "      <td>neutral</td>\n",
       "    </tr>\n",
       "    <tr>\n",
       "      <th>5</th>\n",
       "      <td>fuck watford</td>\n",
       "      <td>neutral</td>\n",
       "    </tr>\n",
       "    <tr>\n",
       "      <th>6</th>\n",
       "      <td>loved that song</td>\n",
       "      <td>neutral</td>\n",
       "    </tr>\n",
       "    <tr>\n",
       "      <th>7</th>\n",
       "      <td>you are a snake and the worst ever player</td>\n",
       "      <td>neutral</td>\n",
       "    </tr>\n",
       "    <tr>\n",
       "      <th>8</th>\n",
       "      <td>not good enough have to be tighter at the top</td>\n",
       "      <td>positive</td>\n",
       "    </tr>\n",
       "  </tbody>\n",
       "</table>\n",
       "</div>"
      ],
      "text/plain": [
       "                                      processed_text sentiment\n",
       "0         praying for 3 points tomorrow come on boys  positive\n",
       "1  love the passion looks an interesting buy to c...   neutral\n",
       "2      bielsa has been impressed by what he has seen   neutral\n",
       "3  stuart dallas produced an impressive performan...   neutral\n",
       "4                   he was taken off as a precaution   neutral\n",
       "5                                       fuck watford   neutral\n",
       "6                                    loved that song   neutral\n",
       "7          you are a snake and the worst ever player   neutral\n",
       "8      not good enough have to be tighter at the top  positive"
      ]
     },
     "execution_count": 5,
     "metadata": {},
     "output_type": "execute_result"
    }
   ],
   "source": [
    "import pandas as pd\n",
    "import numpy as np \n",
    "import matplotlib as plt \n",
    "\n",
    "tweets = pd.read_csv('sentiments2.csv', encoding='utf-8')\n",
    "tweets.head(10)"
   ]
  }
 ],
 "metadata": {
  "kernelspec": {
   "display_name": "dissertation2023",
   "language": "python",
   "name": "python3"
  },
  "language_info": {
   "codemirror_mode": {
    "name": "ipython",
    "version": 3
   },
   "file_extension": ".py",
   "mimetype": "text/x-python",
   "name": "python",
   "nbconvert_exporter": "python",
   "pygments_lexer": "ipython3",
   "version": "3.9.16"
  },
  "orig_nbformat": 4
 },
 "nbformat": 4,
 "nbformat_minor": 2
}
