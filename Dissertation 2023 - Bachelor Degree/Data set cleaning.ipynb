{
 "cells": [
  {
   "cell_type": "code",
   "execution_count": 1,
   "metadata": {},
   "outputs": [
    {
     "data": {
      "text/html": [
       "<div>\n",
       "<style scoped>\n",
       "    .dataframe tbody tr th:only-of-type {\n",
       "        vertical-align: middle;\n",
       "    }\n",
       "\n",
       "    .dataframe tbody tr th {\n",
       "        vertical-align: top;\n",
       "    }\n",
       "\n",
       "    .dataframe thead th {\n",
       "        text-align: right;\n",
       "    }\n",
       "</style>\n",
       "<table border=\"1\" class=\"dataframe\">\n",
       "  <thead>\n",
       "    <tr style=\"text-align: right;\">\n",
       "      <th></th>\n",
       "      <th>tweet_date_created</th>\n",
       "      <th>tweet_id</th>\n",
       "      <th>tweet_text</th>\n",
       "      <th>language</th>\n",
       "      <th>sentiment</th>\n",
       "      <th>sentiment_score</th>\n",
       "    </tr>\n",
       "  </thead>\n",
       "  <tbody>\n",
       "    <tr>\n",
       "      <th>0</th>\n",
       "      <td>2018-05-08T08:19:09</td>\n",
       "      <td>993767246437666816</td>\n",
       "      <td>Bayer Leverkusen goalkeeper Bernd Leno will no...</td>\n",
       "      <td>en</td>\n",
       "      <td>NEUTRAL</td>\n",
       "      <td>{\"Neutral\":0.7228581905364990234375,\"Negative\"...</td>\n",
       "    </tr>\n",
       "    <tr>\n",
       "      <th>1</th>\n",
       "      <td>2018-07-02T19:28:00.331000</td>\n",
       "      <td>1013866900772835331</td>\n",
       "      <td>Gary Speed v Blackburn at St James in 2001/02 ...</td>\n",
       "      <td>en</td>\n",
       "      <td>NEUTRAL</td>\n",
       "      <td>{\"Neutral\":0.998256266117095947265625,\"Negativ...</td>\n",
       "    </tr>\n",
       "    <tr>\n",
       "      <th>2</th>\n",
       "      <td>2018-09-05T12:54:20.408000</td>\n",
       "      <td>1037323043360657408</td>\n",
       "      <td>@ChelseaFC Don't make him regret it and start ...</td>\n",
       "      <td>en</td>\n",
       "      <td>NEUTRAL</td>\n",
       "      <td>{\"Neutral\":0.912796199321746826171875,\"Negativ...</td>\n",
       "    </tr>\n",
       "    <tr>\n",
       "      <th>3</th>\n",
       "      <td>2018-05-08T10:42:17</td>\n",
       "      <td>993803266323550208</td>\n",
       "      <td>@LiverpoolFF @AnfieldEdition He's a liar, made...</td>\n",
       "      <td>en</td>\n",
       "      <td>NEGATIVE</td>\n",
       "      <td>{\"Neutral\":0.3271420896053314208984375,\"Negati...</td>\n",
       "    </tr>\n",
       "    <tr>\n",
       "      <th>4</th>\n",
       "      <td>2018-08-07T07:29:59.136000</td>\n",
       "      <td>1026732168226267136</td>\n",
       "      <td>@theesk @Everton Didn't realise Kenwright is d...</td>\n",
       "      <td>en</td>\n",
       "      <td>NEUTRAL</td>\n",
       "      <td>{\"Neutral\":0.957906246185302734375,\"Negative\":...</td>\n",
       "    </tr>\n",
       "  </tbody>\n",
       "</table>\n",
       "</div>"
      ],
      "text/plain": [
       "           tweet_date_created             tweet_id  \\\n",
       "0         2018-05-08T08:19:09   993767246437666816   \n",
       "1  2018-07-02T19:28:00.331000  1013866900772835331   \n",
       "2  2018-09-05T12:54:20.408000  1037323043360657408   \n",
       "3         2018-05-08T10:42:17   993803266323550208   \n",
       "4  2018-08-07T07:29:59.136000  1026732168226267136   \n",
       "\n",
       "                                          tweet_text language sentiment  \\\n",
       "0  Bayer Leverkusen goalkeeper Bernd Leno will no...       en   NEUTRAL   \n",
       "1  Gary Speed v Blackburn at St James in 2001/02 ...       en   NEUTRAL   \n",
       "2  @ChelseaFC Don't make him regret it and start ...       en   NEUTRAL   \n",
       "3  @LiverpoolFF @AnfieldEdition He's a liar, made...       en  NEGATIVE   \n",
       "4  @theesk @Everton Didn't realise Kenwright is d...       en   NEUTRAL   \n",
       "\n",
       "                                     sentiment_score  \n",
       "0  {\"Neutral\":0.7228581905364990234375,\"Negative\"...  \n",
       "1  {\"Neutral\":0.998256266117095947265625,\"Negativ...  \n",
       "2  {\"Neutral\":0.912796199321746826171875,\"Negativ...  \n",
       "3  {\"Neutral\":0.3271420896053314208984375,\"Negati...  \n",
       "4  {\"Neutral\":0.957906246185302734375,\"Negative\":...  "
      ]
     },
     "execution_count": 1,
     "metadata": {},
     "output_type": "execute_result"
    }
   ],
   "source": [
    "import pandas as pd\n",
    "import numpy as np \n",
    "import matplotlib as plt \n",
    "\n",
    "tweets = pd.read_csv('combined.csv', encoding='latin')\n",
    "tweets.head(5)"
   ]
  },
  {
   "cell_type": "code",
   "execution_count": 2,
   "metadata": {},
   "outputs": [],
   "source": [
    "tweets.drop(['tweet_date_created', 'language', 'sentiment_score'], axis=1, inplace=True)"
   ]
  },
  {
   "cell_type": "code",
   "execution_count": 3,
   "metadata": {},
   "outputs": [
    {
     "name": "stdout",
     "output_type": "stream",
     "text": [
      "Found 762643 duplicate tweet ids. Removing duplicates...\n"
     ]
    }
   ],
   "source": [
    "duplicates = tweets[tweets.duplicated(subset=['tweet_id'], keep=False)]\n",
    "\n",
    "if not duplicates.empty:\n",
    "    print(f\"Found {len(duplicates)} duplicate tweet ids. Removing duplicates...\")\n",
    "    tweets.drop_duplicates(subset=['tweet_id'], inplace=True)\n",
    "else:\n",
    "    print(\"No duplicate tweet ids found.\")"
   ]
  },
  {
   "cell_type": "code",
   "execution_count": 5,
   "metadata": {},
   "outputs": [],
   "source": [
    "tweets.drop(['tweet_id'], axis=1, inplace=True)"
   ]
  },
  {
   "cell_type": "code",
   "execution_count": 7,
   "metadata": {},
   "outputs": [],
   "source": [
    "tweets.to_csv('update_combined_dataset.csv', index=False)"
   ]
  },
  {
   "cell_type": "code",
   "execution_count": 8,
   "metadata": {},
   "outputs": [
    {
     "name": "stdout",
     "output_type": "stream",
     "text": [
      "The size of the file is 734.2 MB\n"
     ]
    }
   ],
   "source": [
    "import os\n",
    "\n",
    "# Get the size of a file in bytes\n",
    "file_size = os.path.getsize('update_combined_dataset.csv')\n",
    "\n",
    "# Convert the size to a human-readable format\n",
    "if file_size < 1024:\n",
    "    size_str = f\"{file_size} bytes\"\n",
    "elif file_size < 1024 ** 2:\n",
    "    size_str = f\"{file_size / 1024:.1f} KB\"\n",
    "elif file_size < 1024 ** 3:\n",
    "    size_str = f\"{file_size / (1024 ** 2):.1f} MB\"\n",
    "else:\n",
    "    size_str = f\"{file_size / (1024 ** 3):.1f} GB\"\n",
    "\n",
    "# Print the size\n",
    "print(f\"The size of the file is {size_str}\")\n"
   ]
  },
  {
   "cell_type": "code",
   "execution_count": 13,
   "metadata": {},
   "outputs": [
    {
     "data": {
      "text/html": [
       "<div>\n",
       "<style scoped>\n",
       "    .dataframe tbody tr th:only-of-type {\n",
       "        vertical-align: middle;\n",
       "    }\n",
       "\n",
       "    .dataframe tbody tr th {\n",
       "        vertical-align: top;\n",
       "    }\n",
       "\n",
       "    .dataframe thead th {\n",
       "        text-align: right;\n",
       "    }\n",
       "</style>\n",
       "<table border=\"1\" class=\"dataframe\">\n",
       "  <thead>\n",
       "    <tr style=\"text-align: right;\">\n",
       "      <th></th>\n",
       "      <th>sentiment</th>\n",
       "      <th>text_without_url</th>\n",
       "    </tr>\n",
       "  </thead>\n",
       "  <tbody>\n",
       "    <tr>\n",
       "      <th>0</th>\n",
       "      <td>NEUTRAL</td>\n",
       "      <td>Bayer Leverkusen goalkeeper Bernd Leno will no...</td>\n",
       "    </tr>\n",
       "    <tr>\n",
       "      <th>1</th>\n",
       "      <td>NEUTRAL</td>\n",
       "      <td>Gary Speed v Blackburn at St James in 2001/02 ...</td>\n",
       "    </tr>\n",
       "    <tr>\n",
       "      <th>2</th>\n",
       "      <td>NEUTRAL</td>\n",
       "      <td>@ChelseaFC Don't make him regret it and start ...</td>\n",
       "    </tr>\n",
       "    <tr>\n",
       "      <th>3</th>\n",
       "      <td>NEGATIVE</td>\n",
       "      <td>@LiverpoolFF @AnfieldEdition He's a liar, made...</td>\n",
       "    </tr>\n",
       "    <tr>\n",
       "      <th>4</th>\n",
       "      <td>NEUTRAL</td>\n",
       "      <td>@theesk @Everton Didn't realise Kenwright is d...</td>\n",
       "    </tr>\n",
       "  </tbody>\n",
       "</table>\n",
       "</div>"
      ],
      "text/plain": [
       "  sentiment                                   text_without_url\n",
       "0   NEUTRAL  Bayer Leverkusen goalkeeper Bernd Leno will no...\n",
       "1   NEUTRAL  Gary Speed v Blackburn at St James in 2001/02 ...\n",
       "2   NEUTRAL  @ChelseaFC Don't make him regret it and start ...\n",
       "3  NEGATIVE  @LiverpoolFF @AnfieldEdition He's a liar, made...\n",
       "4   NEUTRAL  @theesk @Everton Didn't realise Kenwright is d..."
      ]
     },
     "execution_count": 13,
     "metadata": {},
     "output_type": "execute_result"
    }
   ],
   "source": [
    "import pandas as pd\n",
    "import re\n",
    "\n",
    "# Load the dataset\n",
    "tweets = pd.read_csv('update_combined_dataset.csv')\n",
    "\n",
    "# Convert the 'tweet_text' column to strings\n",
    "tweets['tweet_text'] = tweets['tweet_text'].astype(str)\n",
    "\n",
    "# Define a function to remove URLs from a string\n",
    "def remove_urls(text):\n",
    "    return re.sub(r\"http\\S+|www\\S+\", \"\", text)\n",
    "\n",
    "# Apply the function to a column in the dataset\n",
    "tweets['text_without_url'] = tweets['tweet_text'].apply(remove_urls)\n",
    "\n",
    "tweets.drop(['tweet_text'], axis=1, inplace=True)\n",
    "\n",
    "tweets.to_csv('no_urls.csv', index=False)\n",
    "\n",
    "# Print the updated dataset\n",
    "tweets.head(5)\n"
   ]
  },
  {
   "cell_type": "code",
   "execution_count": 14,
   "metadata": {},
   "outputs": [
    {
     "name": "stdout",
     "output_type": "stream",
     "text": [
      "The size of the file is 699.5 MB\n"
     ]
    }
   ],
   "source": [
    "import os\n",
    "\n",
    "# Get the size of a file in bytes\n",
    "file_size = os.path.getsize('no_urls.csv')\n",
    "\n",
    "# Convert the size to a human-readable format\n",
    "if file_size < 1024:\n",
    "    size_str = f\"{file_size} bytes\"\n",
    "elif file_size < 1024 ** 2:\n",
    "    size_str = f\"{file_size / 1024:.1f} KB\"\n",
    "elif file_size < 1024 ** 3:\n",
    "    size_str = f\"{file_size / (1024 ** 2):.1f} MB\"\n",
    "else:\n",
    "    size_str = f\"{file_size / (1024 ** 3):.1f} GB\"\n",
    "\n",
    "# Print the size\n",
    "print(f\"The size of the file is {size_str}\")"
   ]
  },
  {
   "cell_type": "code",
   "execution_count": 15,
   "metadata": {},
   "outputs": [
    {
     "data": {
      "text/html": [
       "<div>\n",
       "<style scoped>\n",
       "    .dataframe tbody tr th:only-of-type {\n",
       "        vertical-align: middle;\n",
       "    }\n",
       "\n",
       "    .dataframe tbody tr th {\n",
       "        vertical-align: top;\n",
       "    }\n",
       "\n",
       "    .dataframe thead th {\n",
       "        text-align: right;\n",
       "    }\n",
       "</style>\n",
       "<table border=\"1\" class=\"dataframe\">\n",
       "  <thead>\n",
       "    <tr style=\"text-align: right;\">\n",
       "      <th></th>\n",
       "      <th>sentiment</th>\n",
       "      <th>text_without_url</th>\n",
       "    </tr>\n",
       "  </thead>\n",
       "  <tbody>\n",
       "    <tr>\n",
       "      <th>0</th>\n",
       "      <td>NEUTRAL</td>\n",
       "      <td>Bayer Leverkusen goalkeeper Bernd Leno will no...</td>\n",
       "    </tr>\n",
       "    <tr>\n",
       "      <th>1</th>\n",
       "      <td>NEUTRAL</td>\n",
       "      <td>Gary Speed v Blackburn at St James in 2001/02 ...</td>\n",
       "    </tr>\n",
       "    <tr>\n",
       "      <th>2</th>\n",
       "      <td>NEUTRAL</td>\n",
       "      <td>@ChelseaFC Don't make him regret it and start ...</td>\n",
       "    </tr>\n",
       "    <tr>\n",
       "      <th>3</th>\n",
       "      <td>NEGATIVE</td>\n",
       "      <td>@LiverpoolFF @AnfieldEdition He's a liar, made...</td>\n",
       "    </tr>\n",
       "    <tr>\n",
       "      <th>4</th>\n",
       "      <td>NEUTRAL</td>\n",
       "      <td>@theesk @Everton Didn't realise Kenwright is d...</td>\n",
       "    </tr>\n",
       "  </tbody>\n",
       "</table>\n",
       "</div>"
      ],
      "text/plain": [
       "  sentiment                                   text_without_url\n",
       "0   NEUTRAL  Bayer Leverkusen goalkeeper Bernd Leno will no...\n",
       "1   NEUTRAL  Gary Speed v Blackburn at St James in 2001/02 ...\n",
       "2   NEUTRAL  @ChelseaFC Don't make him regret it and start ...\n",
       "3  NEGATIVE  @LiverpoolFF @AnfieldEdition He's a liar, made...\n",
       "4   NEUTRAL  @theesk @Everton Didn't realise Kenwright is d..."
      ]
     },
     "execution_count": 15,
     "metadata": {},
     "output_type": "execute_result"
    }
   ],
   "source": [
    "import pandas as pd\n",
    "import re\n",
    "\n",
    "# Load the dataset\n",
    "tweets = pd.read_csv('no_urls.csv')\n",
    "tweets.head(5)"
   ]
  },
  {
   "cell_type": "code",
   "execution_count": 16,
   "metadata": {},
   "outputs": [
    {
     "data": {
      "text/html": [
       "<div>\n",
       "<style scoped>\n",
       "    .dataframe tbody tr th:only-of-type {\n",
       "        vertical-align: middle;\n",
       "    }\n",
       "\n",
       "    .dataframe tbody tr th {\n",
       "        vertical-align: top;\n",
       "    }\n",
       "\n",
       "    .dataframe thead th {\n",
       "        text-align: right;\n",
       "    }\n",
       "</style>\n",
       "<table border=\"1\" class=\"dataframe\">\n",
       "  <thead>\n",
       "    <tr style=\"text-align: right;\">\n",
       "      <th></th>\n",
       "      <th>sentiment</th>\n",
       "      <th>text_without_mentions</th>\n",
       "    </tr>\n",
       "  </thead>\n",
       "  <tbody>\n",
       "    <tr>\n",
       "      <th>0</th>\n",
       "      <td>NEUTRAL</td>\n",
       "      <td>Bayer Leverkusen goalkeeper Bernd Leno will no...</td>\n",
       "    </tr>\n",
       "    <tr>\n",
       "      <th>1</th>\n",
       "      <td>NEUTRAL</td>\n",
       "      <td>Gary Speed v Blackburn at St James in 2001/02 ...</td>\n",
       "    </tr>\n",
       "    <tr>\n",
       "      <th>2</th>\n",
       "      <td>NEUTRAL</td>\n",
       "      <td>Don't make him regret it and start him over H...</td>\n",
       "    </tr>\n",
       "    <tr>\n",
       "      <th>3</th>\n",
       "      <td>NEGATIVE</td>\n",
       "      <td>He's a liar, made up. I've unfollowed him as...</td>\n",
       "    </tr>\n",
       "    <tr>\n",
       "      <th>4</th>\n",
       "      <td>NEUTRAL</td>\n",
       "      <td>Didn't realise Kenwright is due to leave at ...</td>\n",
       "    </tr>\n",
       "  </tbody>\n",
       "</table>\n",
       "</div>"
      ],
      "text/plain": [
       "  sentiment                              text_without_mentions\n",
       "0   NEUTRAL  Bayer Leverkusen goalkeeper Bernd Leno will no...\n",
       "1   NEUTRAL  Gary Speed v Blackburn at St James in 2001/02 ...\n",
       "2   NEUTRAL   Don't make him regret it and start him over H...\n",
       "3  NEGATIVE    He's a liar, made up. I've unfollowed him as...\n",
       "4   NEUTRAL    Didn't realise Kenwright is due to leave at ..."
      ]
     },
     "execution_count": 16,
     "metadata": {},
     "output_type": "execute_result"
    }
   ],
   "source": [
    "import pandas as pd\n",
    "import re\n",
    "\n",
    "# Load the dataset\n",
    "tweets = pd.read_csv('no_urls.csv')\n",
    "\n",
    "# Convert the 'tweet_text' column to strings\n",
    "tweets['text_without_url'] = tweets['text_without_url'].astype(str)\n",
    "\n",
    "# Define a function to remove URLs from a string\n",
    "def remove_urls(text):\n",
    "    return re.sub(r'@\\w+', '', text)\n",
    "\n",
    "# Apply the function to a column in the dataset\n",
    "tweets['text_without_mentions'] = tweets['text_without_url'].apply(remove_urls)\n",
    "\n",
    "tweets.drop(['text_without_url'], axis=1, inplace=True)\n",
    "\n",
    "tweets.to_csv('no_mentions.csv', index=False)\n",
    "\n",
    "# Print the updated dataset\n",
    "tweets.head(5)\n"
   ]
  },
  {
   "cell_type": "code",
   "execution_count": 17,
   "metadata": {},
   "outputs": [
    {
     "name": "stdout",
     "output_type": "stream",
     "text": [
      "The size of the file is 585.6 MB\n"
     ]
    }
   ],
   "source": [
    "import os\n",
    "\n",
    "# Get the size of a file in bytes\n",
    "file_size = os.path.getsize('no_mentions.csv')\n",
    "\n",
    "# Convert the size to a human-readable format\n",
    "if file_size < 1024:\n",
    "    size_str = f\"{file_size} bytes\"\n",
    "elif file_size < 1024 ** 2:\n",
    "    size_str = f\"{file_size / 1024:.1f} KB\"\n",
    "elif file_size < 1024 ** 3:\n",
    "    size_str = f\"{file_size / (1024 ** 2):.1f} MB\"\n",
    "else:\n",
    "    size_str = f\"{file_size / (1024 ** 3):.1f} GB\"\n",
    "\n",
    "# Print the size\n",
    "print(f\"The size of the file is {size_str}\")"
   ]
  },
  {
   "cell_type": "code",
   "execution_count": 19,
   "metadata": {},
   "outputs": [
    {
     "data": {
      "text/html": [
       "<div>\n",
       "<style scoped>\n",
       "    .dataframe tbody tr th:only-of-type {\n",
       "        vertical-align: middle;\n",
       "    }\n",
       "\n",
       "    .dataframe tbody tr th {\n",
       "        vertical-align: top;\n",
       "    }\n",
       "\n",
       "    .dataframe thead th {\n",
       "        text-align: right;\n",
       "    }\n",
       "</style>\n",
       "<table border=\"1\" class=\"dataframe\">\n",
       "  <thead>\n",
       "    <tr style=\"text-align: right;\">\n",
       "      <th></th>\n",
       "      <th>sentiment</th>\n",
       "      <th>text_without_mentions</th>\n",
       "    </tr>\n",
       "  </thead>\n",
       "  <tbody>\n",
       "    <tr>\n",
       "      <th>0</th>\n",
       "      <td>NEUTRAL</td>\n",
       "      <td>Bayer Leverkusen goalkeeper Bernd Leno will no...</td>\n",
       "    </tr>\n",
       "    <tr>\n",
       "      <th>1</th>\n",
       "      <td>NEUTRAL</td>\n",
       "      <td>Gary Speed v Blackburn at St James in 2001/02 ...</td>\n",
       "    </tr>\n",
       "    <tr>\n",
       "      <th>2</th>\n",
       "      <td>NEUTRAL</td>\n",
       "      <td>Don't make him regret it and start him over H...</td>\n",
       "    </tr>\n",
       "    <tr>\n",
       "      <th>3</th>\n",
       "      <td>NEGATIVE</td>\n",
       "      <td>He's a liar, made up. I've unfollowed him as...</td>\n",
       "    </tr>\n",
       "    <tr>\n",
       "      <th>4</th>\n",
       "      <td>NEUTRAL</td>\n",
       "      <td>Didn't realise Kenwright is due to leave at ...</td>\n",
       "    </tr>\n",
       "  </tbody>\n",
       "</table>\n",
       "</div>"
      ],
      "text/plain": [
       "  sentiment                              text_without_mentions\n",
       "0   NEUTRAL  Bayer Leverkusen goalkeeper Bernd Leno will no...\n",
       "1   NEUTRAL  Gary Speed v Blackburn at St James in 2001/02 ...\n",
       "2   NEUTRAL   Don't make him regret it and start him over H...\n",
       "3  NEGATIVE    He's a liar, made up. I've unfollowed him as...\n",
       "4   NEUTRAL    Didn't realise Kenwright is due to leave at ..."
      ]
     },
     "execution_count": 19,
     "metadata": {},
     "output_type": "execute_result"
    }
   ],
   "source": [
    "tweets = pd.read_csv('no_mentions.csv')\n",
    "tweets.head(5)"
   ]
  },
  {
   "cell_type": "code",
   "execution_count": 20,
   "metadata": {},
   "outputs": [
    {
     "data": {
      "text/html": [
       "<div>\n",
       "<style scoped>\n",
       "    .dataframe tbody tr th:only-of-type {\n",
       "        vertical-align: middle;\n",
       "    }\n",
       "\n",
       "    .dataframe tbody tr th {\n",
       "        vertical-align: top;\n",
       "    }\n",
       "\n",
       "    .dataframe thead th {\n",
       "        text-align: right;\n",
       "    }\n",
       "</style>\n",
       "<table border=\"1\" class=\"dataframe\">\n",
       "  <thead>\n",
       "    <tr style=\"text-align: right;\">\n",
       "      <th></th>\n",
       "      <th>sentiment</th>\n",
       "      <th>text_without_hashtags</th>\n",
       "    </tr>\n",
       "  </thead>\n",
       "  <tbody>\n",
       "    <tr>\n",
       "      <th>0</th>\n",
       "      <td>NEUTRAL</td>\n",
       "      <td>Bayer Leverkusen goalkeeper Bernd Leno will no...</td>\n",
       "    </tr>\n",
       "    <tr>\n",
       "      <th>1</th>\n",
       "      <td>NEUTRAL</td>\n",
       "      <td>Gary Speed v Blackburn at St James in 2001/02 ...</td>\n",
       "    </tr>\n",
       "    <tr>\n",
       "      <th>2</th>\n",
       "      <td>NEUTRAL</td>\n",
       "      <td>Don't make him regret it and start him over H...</td>\n",
       "    </tr>\n",
       "    <tr>\n",
       "      <th>3</th>\n",
       "      <td>NEGATIVE</td>\n",
       "      <td>He's a liar, made up. I've unfollowed him as...</td>\n",
       "    </tr>\n",
       "    <tr>\n",
       "      <th>4</th>\n",
       "      <td>NEUTRAL</td>\n",
       "      <td>Didn't realise Kenwright is due to leave at ...</td>\n",
       "    </tr>\n",
       "  </tbody>\n",
       "</table>\n",
       "</div>"
      ],
      "text/plain": [
       "  sentiment                              text_without_hashtags\n",
       "0   NEUTRAL  Bayer Leverkusen goalkeeper Bernd Leno will no...\n",
       "1   NEUTRAL  Gary Speed v Blackburn at St James in 2001/02 ...\n",
       "2   NEUTRAL   Don't make him regret it and start him over H...\n",
       "3  NEGATIVE    He's a liar, made up. I've unfollowed him as...\n",
       "4   NEUTRAL    Didn't realise Kenwright is due to leave at ..."
      ]
     },
     "execution_count": 20,
     "metadata": {},
     "output_type": "execute_result"
    }
   ],
   "source": [
    "import pandas as pd\n",
    "import re\n",
    "\n",
    "# Load the dataset\n",
    "tweets = pd.read_csv('no_mentions.csv')\n",
    "\n",
    "# Convert the 'tweet_text' column to strings\n",
    "tweets['text_without_mentions'] = tweets['text_without_mentions'].astype(str)\n",
    "\n",
    "# Define a function to remove URLs from a string\n",
    "def remove_urls(text):\n",
    "    return re.sub(r'#\\w+', '', text)\n",
    "\n",
    "# Apply the function to a column in the dataset\n",
    "tweets['text_without_hashtags'] = tweets['text_without_mentions'].apply(remove_urls)\n",
    "\n",
    "tweets.drop(['text_without_mentions'], axis=1, inplace=True)\n",
    "\n",
    "tweets.to_csv('no_hashtags.csv', index=False)\n",
    "\n",
    "# Print the updated dataset\n",
    "tweets.head(5)\n"
   ]
  },
  {
   "cell_type": "code",
   "execution_count": 21,
   "metadata": {},
   "outputs": [
    {
     "name": "stdout",
     "output_type": "stream",
     "text": [
      "The size of the file is 544.0 MB\n"
     ]
    }
   ],
   "source": [
    "import os\n",
    "\n",
    "# Get the size of a file in bytes\n",
    "file_size = os.path.getsize('no_hashtags.csv')\n",
    "\n",
    "# Convert the size to a human-readable format\n",
    "if file_size < 1024:\n",
    "    size_str = f\"{file_size} bytes\"\n",
    "elif file_size < 1024 ** 2:\n",
    "    size_str = f\"{file_size / 1024:.1f} KB\"\n",
    "elif file_size < 1024 ** 3:\n",
    "    size_str = f\"{file_size / (1024 ** 2):.1f} MB\"\n",
    "else:\n",
    "    size_str = f\"{file_size / (1024 ** 3):.1f} GB\"\n",
    "\n",
    "# Print the size\n",
    "print(f\"The size of the file is {size_str}\")"
   ]
  },
  {
   "cell_type": "code",
   "execution_count": 10,
   "metadata": {},
   "outputs": [
    {
     "name": "stdout",
     "output_type": "stream",
     "text": [
      "  sentiment                           text_without_punctuation\n",
      "0   NEUTRAL  Bayer Leverkusen goalkeeper Bernd Leno will no...\n",
      "1   NEUTRAL  Gary Speed v Blackburn at St James in 200102 a...\n",
      "2   NEUTRAL   Dont make him regret it and start him over Ho...\n",
      "3  NEGATIVE    Hes a liar made up Ive unfollowed him as loa...\n",
      "4   NEUTRAL    Didnt realise Kenwright is due to leave at t...\n"
     ]
    }
   ],
   "source": [
    "import pandas as pd\n",
    "import re\n",
    "import string\n",
    "\n",
    "# Load the dataset\n",
    "tweets = pd.read_csv('no_hashtags.csv')\n",
    "\n",
    "# Convert the 'text_without_hashtags' column to strings\n",
    "tweets['text_without_hashtags'] = tweets['text_without_hashtags'].astype(str)\n",
    "\n",
    "# Define a function to remove URLs and punctuation from a string\n",
    "def remove_urls_and_punctuation(text):\n",
    "    # Remove URLs\n",
    "    text = re.sub(r'#\\w+', '', text)\n",
    "    # Remove punctuation\n",
    "    translator = str.maketrans(\"\", \"\", string.punctuation)\n",
    "    text = text.translate(translator)\n",
    "    return text\n",
    "\n",
    "# Apply the function to a column in the dataset\n",
    "tweets['text_without_punctuation'] = tweets['text_without_hashtags'].apply(remove_urls_and_punctuation)\n",
    "\n",
    "# Drop the original 'text_without_hashtags' column\n",
    "tweets.drop(['text_without_hashtags'], axis=1, inplace=True)\n",
    "\n",
    "# Save the updated dataset to a CSV file\n",
    "tweets.to_csv('no_punctuation2.csv', index=False)\n",
    "\n",
    "# Print the updated dataset\n",
    "print(tweets.head(5))\n"
   ]
  },
  {
   "cell_type": "code",
   "execution_count": 11,
   "metadata": {},
   "outputs": [
    {
     "name": "stdout",
     "output_type": "stream",
     "text": [
      "The size of the file is 523.3 MB\n"
     ]
    }
   ],
   "source": [
    "import os\n",
    "\n",
    "# Get the size of a file in bytes\n",
    "file_size = os.path.getsize('no_punctuation2.csv')\n",
    "\n",
    "# Convert the size to a human-readable format\n",
    "if file_size < 1024:\n",
    "    size_str = f\"{file_size} bytes\"\n",
    "elif file_size < 1024 ** 2:\n",
    "    size_str = f\"{file_size / 1024:.1f} KB\"\n",
    "elif file_size < 1024 ** 3:\n",
    "    size_str = f\"{file_size / (1024 ** 2):.1f} MB\"\n",
    "else:\n",
    "    size_str = f\"{file_size / (1024 ** 3):.1f} GB\"\n",
    "\n",
    "# Print the size\n",
    "print(f\"The size of the file is {size_str}\")"
   ]
  },
  {
   "cell_type": "code",
   "execution_count": 14,
   "metadata": {},
   "outputs": [
    {
     "data": {
      "text/html": [
       "<div>\n",
       "<style scoped>\n",
       "    .dataframe tbody tr th:only-of-type {\n",
       "        vertical-align: middle;\n",
       "    }\n",
       "\n",
       "    .dataframe tbody tr th {\n",
       "        vertical-align: top;\n",
       "    }\n",
       "\n",
       "    .dataframe thead th {\n",
       "        text-align: right;\n",
       "    }\n",
       "</style>\n",
       "<table border=\"1\" class=\"dataframe\">\n",
       "  <thead>\n",
       "    <tr style=\"text-align: right;\">\n",
       "      <th></th>\n",
       "      <th>sentiment</th>\n",
       "      <th>text_without_punctuation</th>\n",
       "    </tr>\n",
       "  </thead>\n",
       "  <tbody>\n",
       "    <tr>\n",
       "      <th>0</th>\n",
       "      <td>NEUTRAL</td>\n",
       "      <td>Bayer Leverkusen goalkeeper Bernd Leno will no...</td>\n",
       "    </tr>\n",
       "    <tr>\n",
       "      <th>1</th>\n",
       "      <td>NEUTRAL</td>\n",
       "      <td>Gary Speed v Blackburn at St James in 200102 a...</td>\n",
       "    </tr>\n",
       "    <tr>\n",
       "      <th>2</th>\n",
       "      <td>NEUTRAL</td>\n",
       "      <td>Dont make him regret it and start him over Ho...</td>\n",
       "    </tr>\n",
       "    <tr>\n",
       "      <th>3</th>\n",
       "      <td>NEGATIVE</td>\n",
       "      <td>Hes a liar made up Ive unfollowed him as loa...</td>\n",
       "    </tr>\n",
       "    <tr>\n",
       "      <th>4</th>\n",
       "      <td>NEUTRAL</td>\n",
       "      <td>Didnt realise Kenwright is due to leave at t...</td>\n",
       "    </tr>\n",
       "  </tbody>\n",
       "</table>\n",
       "</div>"
      ],
      "text/plain": [
       "  sentiment                           text_without_punctuation\n",
       "0   NEUTRAL  Bayer Leverkusen goalkeeper Bernd Leno will no...\n",
       "1   NEUTRAL  Gary Speed v Blackburn at St James in 200102 a...\n",
       "2   NEUTRAL   Dont make him regret it and start him over Ho...\n",
       "3  NEGATIVE    Hes a liar made up Ive unfollowed him as loa...\n",
       "4   NEUTRAL    Didnt realise Kenwright is due to leave at t..."
      ]
     },
     "execution_count": 14,
     "metadata": {},
     "output_type": "execute_result"
    }
   ],
   "source": [
    "import pandas as pd\n",
    "\n",
    "df = pd.read_csv('no_punctuation2.csv')\n",
    "df.head(5)"
   ]
  },
  {
   "cell_type": "code",
   "execution_count": 15,
   "metadata": {},
   "outputs": [
    {
     "name": "stderr",
     "output_type": "stream",
     "text": [
      "[nltk_data] Downloading package punkt to\n",
      "[nltk_data]     C:\\Users\\clayt\\AppData\\Roaming\\nltk_data...\n",
      "[nltk_data]   Package punkt is already up-to-date!\n",
      "[nltk_data] Downloading package stopwords to\n",
      "[nltk_data]     C:\\Users\\clayt\\AppData\\Roaming\\nltk_data...\n",
      "[nltk_data]   Package stopwords is already up-to-date!\n"
     ]
    },
    {
     "name": "stdout",
     "output_type": "stream",
     "text": [
      "         Frequency\n",
      "season      322254\n",
      "get         267543\n",
      "like        258804\n",
      "team        248429\n",
      "game        235851\n",
      "one         226039\n",
      "good        213893\n",
      "back        210825\n",
      "amp         205624\n",
      "see         196305\n",
      "players     188987\n",
      "best        187844\n",
      "us          184058\n",
      "player      180938\n",
      "club        180209\n",
      "time        179075\n",
      "fans        170948\n",
      "would       170243\n",
      "win         165944\n",
      "play        164726\n"
     ]
    }
   ],
   "source": [
    "import pandas as pd\n",
    "from collections import Counter\n",
    "import nltk\n",
    "nltk.download('punkt')\n",
    "nltk.download('stopwords')\n",
    "from nltk.corpus import stopwords\n",
    "\n",
    "df['text_without_punctuation'] = df['text_without_punctuation'].astype(str)\n",
    "\n",
    "df['tokens'] = df['text_without_punctuation'].apply(lambda x: nltk.word_tokenize(x) if isinstance(x, str) else [])\n",
    "stop_words = set(stopwords.words('english'))\n",
    "df['filtered_tokens'] = df['tokens'].apply(lambda x: [word for word in x if word.lower() not in stop_words and word.lower() != 'amp'])\n",
    "\n",
    "all_words = [word for tokens in df['filtered_tokens'] for word in tokens]\n",
    "word_freq = Counter(all_words)\n",
    "word_freq_df = pd.DataFrame.from_dict(word_freq, orient='index', columns=['Frequency'])\n",
    "word_freq_df = word_freq_df.sort_values(by=['Frequency'], ascending=False)\n",
    "print(word_freq_df.head(20))\n"
   ]
  },
  {
   "cell_type": "code",
   "execution_count": 16,
   "metadata": {},
   "outputs": [
    {
     "data": {
      "image/png": "[encoded data removed]",
      "text/plain": [
       "<Figure size 1000x500 with 1 Axes>"
      ]
     },
     "metadata": {},
     "output_type": "display_data"
    }
   ],
   "source": [
    "import matplotlib.pyplot as plt\n",
    "\n",
    "# Select top 20 most frequent words\n",
    "top_words = word_freq_df.head(20)\n",
    "\n",
    "# Create bar chart\n",
    "plt.figure(figsize=(10, 5))\n",
    "plt.bar(top_words.index, top_words['Frequency'])\n",
    "plt.xticks(rotation=90)\n",
    "plt.xlabel('Words')\n",
    "plt.ylabel('Frequency')\n",
    "plt.title('Top 20 Most Frequent Words')\n",
    "plt.show()\n"
   ]
  },
  {
   "cell_type": "code",
   "execution_count": 1,
   "metadata": {},
   "outputs": [
    {
     "ename": "NameError",
     "evalue": "name 'tweets' is not defined",
     "output_type": "error",
     "traceback": [
      "\u001b[1;31m---------------------------------------------------------------------------\u001b[0m",
      "\u001b[1;31mNameError\u001b[0m                                 Traceback (most recent call last)",
      "\u001b[1;32m~\\AppData\\Local\\Temp\\ipykernel_11844\\1524461879.py\u001b[0m in \u001b[0;36m<module>\u001b[1;34m\u001b[0m\n\u001b[1;32m----> 1\u001b[1;33m \u001b[0mpositive_tweets\u001b[0m \u001b[1;33m=\u001b[0m \u001b[0mtweets\u001b[0m\u001b[1;33m[\u001b[0m\u001b[0mtweets\u001b[0m\u001b[1;33m[\u001b[0m\u001b[1;34m'sentiment'\u001b[0m\u001b[1;33m]\u001b[0m \u001b[1;33m==\u001b[0m \u001b[1;34m'POSITIVE'\u001b[0m\u001b[1;33m]\u001b[0m\u001b[1;33m\u001b[0m\u001b[1;33m\u001b[0m\u001b[0m\n\u001b[0m\u001b[0;32m      2\u001b[0m \u001b[0mnegative_tweets\u001b[0m \u001b[1;33m=\u001b[0m \u001b[0mtweets\u001b[0m\u001b[1;33m[\u001b[0m\u001b[0mtweets\u001b[0m\u001b[1;33m[\u001b[0m\u001b[1;34m'sentiment'\u001b[0m\u001b[1;33m]\u001b[0m \u001b[1;33m==\u001b[0m \u001b[1;34m'NEGATIVE'\u001b[0m\u001b[1;33m]\u001b[0m\u001b[1;33m\u001b[0m\u001b[1;33m\u001b[0m\u001b[0m\n\u001b[0;32m      3\u001b[0m \u001b[0mneutral_tweets\u001b[0m \u001b[1;33m=\u001b[0m \u001b[0mtweets\u001b[0m\u001b[1;33m[\u001b[0m\u001b[0mtweets\u001b[0m\u001b[1;33m[\u001b[0m\u001b[1;34m'sentiment'\u001b[0m\u001b[1;33m]\u001b[0m \u001b[1;33m==\u001b[0m \u001b[1;34m'NEUTRAL'\u001b[0m\u001b[1;33m]\u001b[0m\u001b[1;33m\u001b[0m\u001b[1;33m\u001b[0m\u001b[0m\n\u001b[0;32m      4\u001b[0m \u001b[0mmixed_tweets\u001b[0m \u001b[1;33m=\u001b[0m \u001b[0mtweets\u001b[0m\u001b[1;33m[\u001b[0m\u001b[0mtweets\u001b[0m\u001b[1;33m[\u001b[0m\u001b[1;34m'sentiment'\u001b[0m\u001b[1;33m]\u001b[0m \u001b[1;33m==\u001b[0m \u001b[1;34m'MIXED'\u001b[0m\u001b[1;33m]\u001b[0m\u001b[1;33m\u001b[0m\u001b[1;33m\u001b[0m\u001b[0m\n\u001b[0;32m      5\u001b[0m \u001b[1;33m\u001b[0m\u001b[0m\n",
      "\u001b[1;31mNameError\u001b[0m: name 'tweets' is not defined"
     ]
    }
   ],
   "source": [
    "positive_tweets = tweets[tweets['sentiment'] == 'POSITIVE']\n",
    "negative_tweets = tweets[tweets['sentiment'] == 'NEGATIVE']\n",
    "neutral_tweets = tweets[tweets['sentiment'] == 'NEUTRAL']\n",
    "mixed_tweets = tweets[tweets['sentiment'] == 'MIXED']\n",
    "\n",
    "print('No of positive tagged tweets is: {}'.format(len(positive_tweets)))\n",
    "print('No of negative tagged tweets is: {}'.format(len(negative_tweets)))\n",
    "print('No of neutral tagged tweets is: {}'.format(len(neutral_tweets)))\n",
    "print('No of mixed tagged tweets is: {}'.format(len(mixed_tweets)))"
   ]
  },
  {
   "cell_type": "code",
   "execution_count": 26,
   "metadata": {},
   "outputs": [
    {
     "data": {
      "text/html": [
       "<div>\n",
       "<style scoped>\n",
       "    .dataframe tbody tr th:only-of-type {\n",
       "        vertical-align: middle;\n",
       "    }\n",
       "\n",
       "    .dataframe tbody tr th {\n",
       "        vertical-align: top;\n",
       "    }\n",
       "\n",
       "    .dataframe thead th {\n",
       "        text-align: right;\n",
       "    }\n",
       "</style>\n",
       "<table border=\"1\" class=\"dataframe\">\n",
       "  <thead>\n",
       "    <tr style=\"text-align: right;\">\n",
       "      <th></th>\n",
       "      <th>sentiment</th>\n",
       "      <th>text_without_punctuation</th>\n",
       "    </tr>\n",
       "  </thead>\n",
       "  <tbody>\n",
       "    <tr>\n",
       "      <th>0</th>\n",
       "      <td>NEUTRAL</td>\n",
       "      <td>Bayer Leverkusen goalkeeper Bernd Leno will no...</td>\n",
       "    </tr>\n",
       "    <tr>\n",
       "      <th>1</th>\n",
       "      <td>NEUTRAL</td>\n",
       "      <td>Gary Speed v Blackburn at St James in 2001/02 ...</td>\n",
       "    </tr>\n",
       "    <tr>\n",
       "      <th>2</th>\n",
       "      <td>NEUTRAL</td>\n",
       "      <td>Don't make him regret it and start him over H...</td>\n",
       "    </tr>\n",
       "    <tr>\n",
       "      <th>3</th>\n",
       "      <td>NEGATIVE</td>\n",
       "      <td>He's a liar, made up. I've unfollowed him as...</td>\n",
       "    </tr>\n",
       "    <tr>\n",
       "      <th>4</th>\n",
       "      <td>NEUTRAL</td>\n",
       "      <td>Didn't realise Kenwright is due to leave at ...</td>\n",
       "    </tr>\n",
       "  </tbody>\n",
       "</table>\n",
       "</div>"
      ],
      "text/plain": [
       "  sentiment                           text_without_punctuation\n",
       "0   NEUTRAL  Bayer Leverkusen goalkeeper Bernd Leno will no...\n",
       "1   NEUTRAL  Gary Speed v Blackburn at St James in 2001/02 ...\n",
       "2   NEUTRAL   Don't make him regret it and start him over H...\n",
       "3  NEGATIVE    He's a liar, made up. I've unfollowed him as...\n",
       "4   NEUTRAL    Didn't realise Kenwright is due to leave at ..."
      ]
     },
     "execution_count": 26,
     "metadata": {},
     "output_type": "execute_result"
    }
   ],
   "source": [
    "tweets.head(5)"
   ]
  }
 ],
 "metadata": {
  "kernelspec": {
   "display_name": "base",
   "language": "python",
   "name": "python3"
  },
  "language_info": {
   "codemirror_mode": {
    "name": "ipython",
    "version": 3
   },
   "file_extension": ".py",
   "mimetype": "text/x-python",
   "name": "python",
   "nbconvert_exporter": "python",
   "pygments_lexer": "ipython3",
   "version": "3.9.13"
  },
  "orig_nbformat": 4
 },
 "nbformat": 4,
 "nbformat_minor": 2
}
