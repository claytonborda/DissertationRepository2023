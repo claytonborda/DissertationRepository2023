{
 "cells": [
  {
   "cell_type": "code",
   "execution_count": 2,
   "metadata": {},
   "outputs": [],
   "source": [
    "import pandas as pd\n",
    "import numpy as np \n",
    "import matplotlib as plt \n",
    "\n",
    "tweets = pd.read_csv('combined.csv', encoding='utf-8')\n",
    "tweets = tweets.drop(['tweet_date_created'], axis=1)\n",
    "tweets = tweets.drop(['sentiment_score'], axis=1)"
   ]
  },
  {
   "cell_type": "code",
   "execution_count": 3,
   "metadata": {},
   "outputs": [
    {
     "name": "stdout",
     "output_type": "stream",
     "text": [
      "Found 762643 duplicate tweet ids. Removing duplicates...\n"
     ]
    }
   ],
   "source": [
    "duplicates = tweets[tweets.duplicated(subset=['tweet_id'], keep=False)]\n",
    "\n",
    "if not duplicates.empty:\n",
    "    print(f\"Found {len(duplicates)} duplicate tweet ids. Removing duplicates...\")\n",
    "    tweets.drop_duplicates(subset=['tweet_id'], inplace=True)\n",
    "else:\n",
    "    print(\"No duplicate tweet ids found.\")"
   ]
  },
  {
   "cell_type": "code",
   "execution_count": 4,
   "metadata": {},
   "outputs": [],
   "source": [
    "tweets = tweets.drop(['language'], axis=1)\n",
    "tweets = tweets.drop(['tweet_id'], axis=1)"
   ]
  },
  {
   "cell_type": "code",
   "execution_count": 5,
   "metadata": {},
   "outputs": [],
   "source": [
    "# Define a dictionary that maps sentiment labels to numeric values\n",
    "sentiment_map = {\"NEUTRAL\": 0, \"POSITIVE\": 1, \"MIXED\": 2, \"NEGATIVE\": 3}\n",
    "\n",
    "# Map the sentiment labels to their numeric values\n",
    "tweets['sentiment_values'] = tweets['sentiment'].map(sentiment_map)"
   ]
  },
  {
   "cell_type": "code",
   "execution_count": 6,
   "metadata": {},
   "outputs": [
    {
     "data": {
      "text/html": [
       "<div>\n",
       "<style scoped>\n",
       "    .dataframe tbody tr th:only-of-type {\n",
       "        vertical-align: middle;\n",
       "    }\n",
       "\n",
       "    .dataframe tbody tr th {\n",
       "        vertical-align: top;\n",
       "    }\n",
       "\n",
       "    .dataframe thead th {\n",
       "        text-align: right;\n",
       "    }\n",
       "</style>\n",
       "<table border=\"1\" class=\"dataframe\">\n",
       "  <thead>\n",
       "    <tr style=\"text-align: right;\">\n",
       "      <th></th>\n",
       "      <th>tweet_text</th>\n",
       "      <th>sentiment_values</th>\n",
       "    </tr>\n",
       "  </thead>\n",
       "  <tbody>\n",
       "    <tr>\n",
       "      <th>0</th>\n",
       "      <td>Bayer Leverkusen goalkeeper Bernd Leno will no...</td>\n",
       "      <td>0</td>\n",
       "    </tr>\n",
       "    <tr>\n",
       "      <th>1</th>\n",
       "      <td>Gary Speed v Blackburn at St James in 2001/02 ...</td>\n",
       "      <td>0</td>\n",
       "    </tr>\n",
       "    <tr>\n",
       "      <th>2</th>\n",
       "      <td>@ChelseaFC Don't make him regret it and start ...</td>\n",
       "      <td>0</td>\n",
       "    </tr>\n",
       "    <tr>\n",
       "      <th>3</th>\n",
       "      <td>@LiverpoolFF @AnfieldEdition He's a liar, made...</td>\n",
       "      <td>3</td>\n",
       "    </tr>\n",
       "    <tr>\n",
       "      <th>4</th>\n",
       "      <td>@theesk @Everton Didn't realise Kenwright is d...</td>\n",
       "      <td>0</td>\n",
       "    </tr>\n",
       "  </tbody>\n",
       "</table>\n",
       "</div>"
      ],
      "text/plain": [
       "                                          tweet_text  sentiment_values\n",
       "0  Bayer Leverkusen goalkeeper Bernd Leno will no...                 0\n",
       "1  Gary Speed v Blackburn at St James in 2001/02 ...                 0\n",
       "2  @ChelseaFC Don't make him regret it and start ...                 0\n",
       "3  @LiverpoolFF @AnfieldEdition He's a liar, made...                 3\n",
       "4  @theesk @Everton Didn't realise Kenwright is d...                 0"
      ]
     },
     "execution_count": 6,
     "metadata": {},
     "output_type": "execute_result"
    }
   ],
   "source": [
    "tweets = tweets.drop(['sentiment'], axis=1)\n",
    "tweets.head(5)"
   ]
  },
  {
   "cell_type": "code",
   "execution_count": 7,
   "metadata": {},
   "outputs": [],
   "source": [
    "# Find the indices of rows with Mixed sentiment\n",
    "mixed_indices = tweets[tweets['sentiment_values'] == 2].index\n",
    "\n",
    "# Delete the rows with Mixed sentiment\n",
    "tweets = tweets.drop(mixed_indices)"
   ]
  },
  {
   "cell_type": "code",
   "execution_count": 8,
   "metadata": {},
   "outputs": [
    {
     "name": "stdout",
     "output_type": "stream",
     "text": [
      "No of positive tagged tweets is: 354501\n",
      "No of negative tagged tweets is: 354501\n",
      "No of neutral tagged tweets is: 354501\n"
     ]
    }
   ],
   "source": [
    "import pandas as pd\n",
    "\n",
    "# Shuffle the DataFrame to ensure that the downsampling is random\n",
    "tweets = tweets.sample(frac=1, random_state=42)\n",
    "\n",
    "# Count the number of tweets in each sentiment class\n",
    "counts = tweets['sentiment_values'].value_counts()\n",
    "\n",
    "# Find the smallest class size\n",
    "smallest_size = counts.min()\n",
    "\n",
    "# Downsample each class to the smallest size\n",
    "positive_tweets = tweets[tweets['sentiment_values'] == 1].sample(n=smallest_size, random_state=42)\n",
    "negative_tweets = tweets[tweets['sentiment_values'] == 3].sample(n=smallest_size, random_state=42)\n",
    "neutral_tweets = tweets[tweets['sentiment_values'] == 0].sample(n=smallest_size, random_state=42)\n",
    "\n",
    "# Concatenate the downsampled DataFrames\n",
    "tweets = pd.concat([positive_tweets, negative_tweets, neutral_tweets], ignore_index=True)\n",
    "\n",
    "# Print the new counts of tweets in each class\n",
    "print('No of positive tagged tweets is: {}'.format(len(tweets[tweets['sentiment_values'] == 1])))\n",
    "print('No of negative tagged tweets is: {}'.format(len(tweets[tweets['sentiment_values'] == 3])))\n",
    "print('No of neutral tagged tweets is: {}'.format(len(tweets[tweets['sentiment_values'] == 0])))\n"
   ]
  },
  {
   "attachments": {},
   "cell_type": "markdown",
   "metadata": {},
   "source": [
    "No stopwords"
   ]
  },
  {
   "cell_type": "code",
   "execution_count": 9,
   "metadata": {},
   "outputs": [],
   "source": [
    "import re\n",
    "import string \n",
    "import pandas as pd\n",
    "import nltk \n",
    "from nltk.corpus import stopwords\n",
    "from sklearn.utils import shuffle\n",
    "from nltk.tokenize import word_tokenize\n",
    "\n",
    "def preprocess_text(text):\n",
    "    # Convert to lowercase\n",
    "    text = text.lower()\n",
    "    # Remove URLs\n",
    "    text = re.sub(r'http\\S+', '', text)\n",
    "    # Remove mentions\n",
    "    text = re.sub(r'@\\w+', '', text)\n",
    "    # Remove hashtags\n",
    "    text = re.sub(r'#\\w+', '', text)\n",
    "    # Remove punctuation\n",
    "    text = re.sub(r'[^\\w\\s]', '', text)\n",
    "    # Remove whitespace\n",
    "    text = text.strip()\n",
    "    return text\n",
    "\n",
    "# Apply the preprocessing function to the 'text' column\n",
    "tweets['processed_text'] = tweets['tweet_text'].apply(preprocess_text)\n",
    "\n",
    "tweets =  shuffle(tweets).reset_index(drop=True)\n"
   ]
  },
  {
   "cell_type": "code",
   "execution_count": 10,
   "metadata": {},
   "outputs": [
    {
     "name": "stdout",
     "output_type": "stream",
     "text": [
      "Training data size: 744452\n",
      "Validation data size: 159525\n",
      "Testing data size: 159526\n"
     ]
    }
   ],
   "source": [
    "from sklearn.feature_extraction.text import CountVectorizer, TfidfTransformer\n",
    "from sklearn.naive_bayes import MultinomialNB\n",
    "from sklearn.pipeline import Pipeline\n",
    "from sklearn.metrics import accuracy_score\n",
    "from sklearn.model_selection import RandomizedSearchCV\n",
    "from sklearn.model_selection import train_test_split\n",
    "from sklearn.preprocessing import FunctionTransformer\n",
    "from nltk.tokenize import word_tokenize\n",
    "from nltk.stem import WordNetLemmatizer\n",
    "from nltk.corpus import stopwords\n",
    "import string\n",
    "from sklearn.model_selection import RandomizedSearchCV\n",
    "from scipy.stats import uniform\n",
    "import nltk\n",
    "import dill\n",
    "\n",
    "# Split the dataset into input (X) and output (y)\n",
    "X = tweets['processed_text'].values\n",
    "y = tweets['sentiment_values'].values\n",
    "\n",
    "# Split the dataset into 70% training and 30% combined validation and testing\n",
    "X_train, X_temp, y_train, y_temp = train_test_split(X, y, test_size=0.3, random_state=42)\n",
    "\n",
    "# Split the temporary dataset (30% of the entire dataset) into 50% validation and 50% testing\n",
    "# This results in 15% validation and 15% testing of the entire dataset\n",
    "X_val, X_test, y_val, y_test = train_test_split(X_temp, y_temp, test_size=0.5, random_state=42)\n",
    "\n",
    "print(\"Training data size:\", len(X_train))\n",
    "print(\"Validation data size:\", len(X_val))\n",
    "print(\"Testing data size:\", len(X_test))"
   ]
  },
  {
   "cell_type": "code",
   "execution_count": 22,
   "metadata": {},
   "outputs": [
    {
     "name": "stdout",
     "output_type": "stream",
     "text": [
      "Accuracy on test data: 0.7376\n",
      "Confusion Matrix:\n",
      " [[30160 10079 12918]\n",
      " [ 5936 42094  5006]\n",
      " [ 5011  2915 45406]]\n",
      "Classification Report:\n",
      "               precision    recall  f1-score   support\n",
      "\n",
      "           0       0.73      0.57      0.64     53157\n",
      "           1       0.76      0.79      0.78     53036\n",
      "           3       0.72      0.85      0.78     53332\n",
      "\n",
      "    accuracy                           0.74    159525\n",
      "   macro avg       0.74      0.74      0.73    159525\n",
      "weighted avg       0.74      0.74      0.73    159525\n",
      "\n"
     ]
    }
   ],
   "source": [
    "from sklearn.feature_extraction.text import CountVectorizer, TfidfTransformer\n",
    "from sklearn.naive_bayes import MultinomialNB\n",
    "from sklearn.pipeline import Pipeline\n",
    "from sklearn.metrics import accuracy_score, confusion_matrix, classification_report\n",
    "from sklearn.model_selection import train_test_split\n",
    "import nltk\n",
    "\n",
    "text_clf = Pipeline([\n",
    "    ('vect', CountVectorizer(max_features=5000, ngram_range=(1,1))),\n",
    "    ('clf', MultinomialNB(alpha=0.01))\n",
    "])\n",
    "\n",
    "text_clf.fit(X_train.tolist(), y_train)\n",
    "\n",
    "y_pred = text_clf.predict(X_val.tolist())\n",
    "accuracy = accuracy_score(y_val, y_pred)\n",
    "\n",
    "print(\"Accuracy on test data: {:.4f}\".format(accuracy))\n",
    "\n",
    "# Confusion Matrix\n",
    "cm = confusion_matrix(y_val, y_pred)\n",
    "print(\"Confusion Matrix:\\n\", cm)\n",
    "\n",
    "# Classification Report\n",
    "cr = classification_report(y_val, y_pred)\n",
    "print(\"Classification Report:\\n\", cr)\n"
   ]
  },
  {
   "attachments": {},
   "cell_type": "markdown",
   "metadata": {},
   "source": [
    "Customized Stopwords"
   ]
  },
  {
   "cell_type": "code",
   "execution_count": 23,
   "metadata": {},
   "outputs": [],
   "source": [
    "import re\n",
    "import string \n",
    "import pandas as pd\n",
    "import nltk \n",
    "from nltk.corpus import stopwords\n",
    "from sklearn.utils import shuffle\n",
    "from nltk.tokenize import word_tokenize\n",
    "\n",
    "english_stopwords = stopwords.words('english')\n",
    "\n",
    "def preprocess_text(text):\n",
    "    # Get the default NLTK English stopwords\n",
    "    \n",
    "    # List of words to keep\n",
    "    words_to_keep = {\"off\", \"over\", \"under\", \"few\", \"more\", \"no\", \"not\", \"don't\", \"should\", \"should've\", \"aren't\", \n",
    "                     \"couldn't\", \"didn't\", \"doesn't\", \"hadn't\", \"haven't\", \"mustn't\", \"shouldn't\", \"wasn't\", \"weren't\",\n",
    "                     \"won't\", \"wouldn't\"}\n",
    "\n",
    "    # Convert english_stopwords to a set, perform the subtraction, and convert the result back to a list\n",
    "    custom_stopwords = list(set(english_stopwords) - words_to_keep)\n",
    "\n",
    "    # Convert to lowercase\n",
    "    text = text.lower()\n",
    "    # Remove URLs\n",
    "    text = re.sub(r'http\\S+', '', text)\n",
    "    # Remove mentions\n",
    "    text = re.sub(r'@\\w+', '', text)\n",
    "    # Remove hashtags\n",
    "    text = re.sub(r'#\\w+', '', text)\n",
    "    # Remove punctuation\n",
    "    text = re.sub(r'[^\\w\\s]', '', text)\n",
    "    # Remove whitespace\n",
    "    text = text.strip()\n",
    "    # Remove custom stopwords and join the words in a single string\n",
    "    text = ' '.join([word for word in text.split() if word not in custom_stopwords])\n",
    "    \n",
    "    return text\n",
    "\n",
    "# Apply the preprocessing function to the 'text' column\n",
    "tweets['processed_text'] = tweets['tweet_text'].apply(preprocess_text)\n",
    "\n",
    "tweets =  shuffle(tweets).reset_index(drop=True)\n"
   ]
  },
  {
   "cell_type": "code",
   "execution_count": 24,
   "metadata": {},
   "outputs": [
    {
     "name": "stdout",
     "output_type": "stream",
     "text": [
      "Training data size: 744452\n",
      "Validation data size: 159525\n",
      "Testing data size: 159526\n"
     ]
    }
   ],
   "source": [
    "from sklearn.feature_extraction.text import CountVectorizer, TfidfTransformer\n",
    "from sklearn.naive_bayes import MultinomialNB\n",
    "from sklearn.pipeline import Pipeline\n",
    "from sklearn.metrics import accuracy_score\n",
    "from sklearn.model_selection import RandomizedSearchCV\n",
    "from sklearn.model_selection import train_test_split\n",
    "from sklearn.preprocessing import FunctionTransformer\n",
    "from nltk.tokenize import word_tokenize\n",
    "from nltk.stem import WordNetLemmatizer\n",
    "from nltk.corpus import stopwords\n",
    "import string\n",
    "from sklearn.model_selection import RandomizedSearchCV\n",
    "from scipy.stats import uniform\n",
    "import nltk\n",
    "import dill\n",
    "\n",
    "# Split the dataset into input (X) and output (y)\n",
    "X = tweets['processed_text'].values\n",
    "y = tweets['sentiment_values'].values\n",
    "\n",
    "# Split the dataset into 70% training and 30% combined validation and testing\n",
    "X_train, X_temp, y_train, y_temp = train_test_split(X, y, test_size=0.3, random_state=42)\n",
    "\n",
    "# Split the temporary dataset (30% of the entire dataset) into 50% validation and 50% testing\n",
    "# This results in 15% validation and 15% testing of the entire dataset\n",
    "X_val, X_test, y_val, y_test = train_test_split(X_temp, y_temp, test_size=0.5, random_state=42)\n",
    "\n",
    "print(\"Training data size:\", len(X_train))\n",
    "print(\"Validation data size:\", len(X_val))\n",
    "print(\"Testing data size:\", len(X_test))"
   ]
  },
  {
   "cell_type": "code",
   "execution_count": 35,
   "metadata": {},
   "outputs": [
    {
     "name": "stdout",
     "output_type": "stream",
     "text": [
      "Accuracy on test data: 0.7371\n",
      "Confusion Matrix:\n",
      " [[29764 11044 12417]\n",
      " [ 5933 42561  4604]\n",
      " [ 5122  2826 45254]]\n",
      "Classification Report:\n",
      "               precision    recall  f1-score   support\n",
      "\n",
      "           0       0.73      0.56      0.63     53225\n",
      "           1       0.75      0.80      0.78     53098\n",
      "           3       0.73      0.85      0.78     53202\n",
      "\n",
      "    accuracy                           0.74    159525\n",
      "   macro avg       0.74      0.74      0.73    159525\n",
      "weighted avg       0.74      0.74      0.73    159525\n",
      "\n"
     ]
    }
   ],
   "source": [
    "from sklearn.feature_extraction.text import CountVectorizer, TfidfTransformer\n",
    "from sklearn.naive_bayes import MultinomialNB\n",
    "from sklearn.pipeline import Pipeline\n",
    "from sklearn.metrics import accuracy_score, confusion_matrix, classification_report\n",
    "from sklearn.model_selection import train_test_split\n",
    "import nltk\n",
    "\n",
    "text_clf = Pipeline([\n",
    "    ('vect', CountVectorizer(max_features=5000, ngram_range=(1,1))),\n",
    "    ('clf', MultinomialNB(alpha=0.01))\n",
    "])\n",
    "\n",
    "text_clf.fit(X_train.tolist(), y_train)\n",
    "\n",
    "y_pred = text_clf.predict(X_val.tolist())\n",
    "accuracy = accuracy_score(y_val, y_pred)\n",
    "\n",
    "print(\"Accuracy on test data: {:.4f}\".format(accuracy))\n",
    "\n",
    "# Confusion Matrix\n",
    "cm = confusion_matrix(y_val, y_pred)\n",
    "print(\"Confusion Matrix:\\n\", cm)\n",
    "\n",
    "# Classification Report\n",
    "cr = classification_report(y_val, y_pred)\n",
    "print(\"Classification Report:\\n\", cr)\n"
   ]
  },
  {
   "attachments": {},
   "cell_type": "markdown",
   "metadata": {},
   "source": [
    "Stopwords"
   ]
  },
  {
   "cell_type": "code",
   "execution_count": 36,
   "metadata": {},
   "outputs": [],
   "source": [
    "import re\n",
    "import string \n",
    "import pandas as pd\n",
    "import nltk \n",
    "from nltk.corpus import stopwords\n",
    "\n",
    "english_stopwords = stopwords.words('english')\n",
    "\n",
    "# Add custom stopwords\n",
    "custom_stopwords = ['dont', 'shouldve', 'arent', 'couldnt', 'didnt', 'doesnt', 'hadnt', 'havent', 'mustnt', 'shouldnt', 'wasnt', 'werent', \n",
    "                    'wont', 'wouldnt']\n",
    "english_stopwords.extend(custom_stopwords)\n",
    "\n",
    "def preprocess_text(text):\n",
    "    # Get the default NLTK English stopwords\n",
    "    \n",
    "    # List of words to keep\n",
    "    #words_to_keep = {\"off\", \"over\", \"under\", \"few\", \"more\", \"no\", \"not\", \"don't\", \"should\", \"should've\", \"aren't\", \n",
    "    #                 \"couldn't\", \"didn't\", \"doesn't\", \"hadn't\", \"haven't\", \"mustn't\", \"shouldn't\", \"wasn't\", \"weren't\",\n",
    "    #                 \"won't\", \"wouldn't\"}\n",
    "    # Create a custom stopwords list\n",
    "    #custom_stopwords = default_stopwords - words_to_keep\n",
    "    # Convert to lowercase\n",
    "    text = text.lower()\n",
    "    # Remove URLs\n",
    "    text = re.sub(r'http\\S+', '', text)\n",
    "    # Remove mentions\n",
    "    text = re.sub(r'@\\w+', '', text)\n",
    "    # Remove hashtags\n",
    "    text = re.sub(r'#\\w+', '', text)\n",
    "    # Remove punctuation\n",
    "    text = re.sub(r'[^\\w\\s]', '', text)\n",
    "    # Remove whitespace\n",
    "    text = text.strip()\n",
    "    # Remove custom stopwords and join the words in a single string\n",
    "    text = ' '.join([word for word in text.split() if word not in english_stopwords])\n",
    "    return text\n",
    "\n",
    "# Apply the preprocessing function to the 'text' column\n",
    "tweets['processed_text'] = tweets['tweet_text'].apply(preprocess_text)\n",
    "\n",
    "tweets =  shuffle(tweets).reset_index(drop=True)\n"
   ]
  },
  {
   "cell_type": "code",
   "execution_count": 37,
   "metadata": {},
   "outputs": [
    {
     "name": "stdout",
     "output_type": "stream",
     "text": [
      "Training data size: 744452\n",
      "Validation data size: 159525\n",
      "Testing data size: 159526\n"
     ]
    }
   ],
   "source": [
    "from sklearn.feature_extraction.text import CountVectorizer, TfidfTransformer\n",
    "from sklearn.naive_bayes import MultinomialNB\n",
    "from sklearn.pipeline import Pipeline\n",
    "from sklearn.metrics import accuracy_score\n",
    "from sklearn.model_selection import RandomizedSearchCV\n",
    "from sklearn.model_selection import train_test_split\n",
    "from sklearn.preprocessing import FunctionTransformer\n",
    "from nltk.tokenize import word_tokenize\n",
    "from nltk.stem import WordNetLemmatizer\n",
    "from nltk.corpus import stopwords\n",
    "import string\n",
    "from sklearn.model_selection import RandomizedSearchCV\n",
    "from scipy.stats import uniform\n",
    "import nltk\n",
    "import dill\n",
    "\n",
    "# Split the dataset into input (X) and output (y)\n",
    "X = tweets['processed_text'].values\n",
    "y = tweets['sentiment_values'].values\n",
    "\n",
    "# Split the dataset into 70% training and 30% combined validation and testing\n",
    "X_train, X_temp, y_train, y_temp = train_test_split(X, y, test_size=0.3, random_state=42)\n",
    "\n",
    "# Split the temporary dataset (30% of the entire dataset) into 50% validation and 50% testing\n",
    "# This results in 15% validation and 15% testing of the entire dataset\n",
    "X_val, X_test, y_val, y_test = train_test_split(X_temp, y_temp, test_size=0.5, random_state=42)\n",
    "\n",
    "print(\"Training data size:\", len(X_train))\n",
    "print(\"Validation data size:\", len(X_val))\n",
    "print(\"Testing data size:\", len(X_test))"
   ]
  },
  {
   "cell_type": "code",
   "execution_count": 48,
   "metadata": {},
   "outputs": [
    {
     "name": "stdout",
     "output_type": "stream",
     "text": [
      "Accuracy on test data: 0.7411\n",
      "Confusion Matrix:\n",
      " [[28944 10930 13010]\n",
      " [ 5160 42974  5008]\n",
      " [ 4075  3123 46301]]\n",
      "Classification Report:\n",
      "               precision    recall  f1-score   support\n",
      "\n",
      "           0       0.76      0.55      0.64     52884\n",
      "           1       0.75      0.81      0.78     53142\n",
      "           3       0.72      0.87      0.79     53499\n",
      "\n",
      "    accuracy                           0.74    159525\n",
      "   macro avg       0.74      0.74      0.73    159525\n",
      "weighted avg       0.74      0.74      0.73    159525\n",
      "\n"
     ]
    }
   ],
   "source": [
    "from sklearn.feature_extraction.text import CountVectorizer, TfidfTransformer\n",
    "from sklearn.naive_bayes import MultinomialNB\n",
    "from sklearn.pipeline import Pipeline\n",
    "from sklearn.metrics import accuracy_score, confusion_matrix, classification_report\n",
    "from sklearn.model_selection import train_test_split\n",
    "import nltk\n",
    "\n",
    "text_clf = Pipeline([\n",
    "    ('vect', CountVectorizer(max_features=None, ngram_range=(1,1))),\n",
    "    ('clf', MultinomialNB(alpha=1.0))\n",
    "])\n",
    "\n",
    "text_clf.fit(X_train.tolist(), y_train)\n",
    "\n",
    "y_pred = text_clf.predict(X_val.tolist())\n",
    "accuracy = accuracy_score(y_val, y_pred)\n",
    "\n",
    "print(\"Accuracy on test data: {:.4f}\".format(accuracy))\n",
    "\n",
    "# Confusion Matrix\n",
    "cm = confusion_matrix(y_val, y_pred)\n",
    "print(\"Confusion Matrix:\\n\", cm)\n",
    "\n",
    "# Classification Report\n",
    "cr = classification_report(y_val, y_pred)\n",
    "print(\"Classification Report:\\n\", cr)\n"
   ]
  }
 ],
 "metadata": {
  "kernelspec": {
   "display_name": "Dissertation 2023",
   "language": "python",
   "name": "dissertation"
  },
  "language_info": {
   "codemirror_mode": {
    "name": "ipython",
    "version": 3
   },
   "file_extension": ".py",
   "mimetype": "text/x-python",
   "name": "python",
   "nbconvert_exporter": "python",
   "pygments_lexer": "ipython3",
   "version": "3.9.16"
  },
  "orig_nbformat": 4
 },
 "nbformat": 4,
 "nbformat_minor": 2
}
