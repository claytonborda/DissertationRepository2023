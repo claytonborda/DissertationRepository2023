{
 "cells": [
  {
   "cell_type": "code",
   "execution_count": 10,
   "metadata": {},
   "outputs": [],
   "source": [
    "import pandas as pd\n",
    "import snscrape.modules.twitter as sntwitter\n",
    "import os \n",
    "import pytz\n",
    "\n",
    "query = '#nufc, min_faves:0 lang:en until:2021-12-05 since:2021-12-01 -filter:replies'\n",
    "\n",
    "df = []\n",
    "for i,tweet in enumerate(sntwitter.TwitterSearchScraper(query).get_items()) : \n",
    "    df.append([tweet.id,tweet.date.astimezone(pytz.UTC).replace(tzinfo=None),tweet.source,tweet.place,tweet.user.username,tweet.rawContent,\n",
    "               tweet.hashtags,tweet.likeCount])\n",
    "Data = pd.DataFrame(df,columns=['id','date','source','place','username','Content','hashtags','Likes'])\n",
    "Data.to_excel('nufcMOS_analysisV1hashtag.xlsx')"
   ]
  },
  {
   "cell_type": "code",
   "execution_count": null,
   "metadata": {},
   "outputs": [],
   "source": [
    "import pandas as pd\n",
    "import snscrape.modules.twitter as sntwitter\n",
    "import os \n",
    "import pytz\n",
    "\n",
    "query = '#nufc, min_faves:0 lang:en until:2021-12-15 since:2021-12-05 -filter:replies'\n",
    "\n",
    "df = []\n",
    "for i,tweet in enumerate(sntwitter.TwitterSearchScraper(query).get_items()) : \n",
    "    df.append([tweet.id,tweet.date.astimezone(pytz.UTC).replace(tzinfo=None),tweet.source,tweet.place,tweet.user.username,tweet.rawContent,\n",
    "               tweet.hashtags,tweet.likeCount])\n",
    "Data = pd.DataFrame(df,columns=['id','date','source','place','username','Content','hashtags','Likes'])\n",
    "Data.to_excel('nufcMOS_analysisV2hashtag.xlsx')"
   ]
  },
  {
   "cell_type": "code",
   "execution_count": null,
   "metadata": {},
   "outputs": [],
   "source": [
    "import pandas as pd\n",
    "import snscrape.modules.twitter as sntwitter\n",
    "import os \n",
    "import pytz\n",
    "\n",
    "query = '#nufc, min_faves:0 lang:en until:2022-01-01 since:2021-12-15 -filter:replies'\n",
    "\n",
    "df = []\n",
    "for i,tweet in enumerate(sntwitter.TwitterSearchScraper(query).get_items()) : \n",
    "    df.append([tweet.id,tweet.date.astimezone(pytz.UTC).replace(tzinfo=None),tweet.source,tweet.place,tweet.user.username,tweet.rawContent,\n",
    "               tweet.hashtags,tweet.likeCount])\n",
    "Data = pd.DataFrame(df,columns=['id','date','source','place','username','Content','hashtags','Likes'])\n",
    "Data.to_excel('nufcMOS_analysisV3hashtag.xlsx')"
   ]
  }
 ],
 "metadata": {
  "kernelspec": {
   "display_name": "Dissertation 2023",
   "language": "python",
   "name": "dissertation"
  },
  "language_info": {
   "codemirror_mode": {
    "name": "ipython",
    "version": 3
   },
   "file_extension": ".py",
   "mimetype": "text/x-python",
   "name": "python",
   "nbconvert_exporter": "python",
   "pygments_lexer": "ipython3",
   "version": "3.9.16"
  },
  "orig_nbformat": 4
 },
 "nbformat": 4,
 "nbformat_minor": 2
}
