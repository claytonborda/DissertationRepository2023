{
 "cells": [
  {
   "cell_type": "code",
   "execution_count": 1,
   "metadata": {},
   "outputs": [
    {
     "name": "stdout",
     "output_type": "stream",
     "text": [
      "Point-biserial correlation coefficient: 0.7427790573315299\n",
      "p-value: 0.09073471513358924\n"
     ]
    }
   ],
   "source": [
    "import numpy as np\n",
    "import pandas as pd\n",
    "import scipy.stats as stats\n",
    "\n",
    "# Create a dataset with hypothetical proportions\n",
    "data = {\n",
    "    \"Sentiment\": [\"Positive\", \"Positive\", \"Positive\", \"Negative\", \"Negative\", \"Negative\"],\n",
    "    \"PPG_Category\": [\"High\", \"Medium\", \"Low\", \"High\", \"Medium\", \"Low\"],\n",
    "    \"Proportion\": [0.6517, 0.5733, 0.492, 0.3483, 0.4267, 0.508],\n",
    "}\n",
    "\n",
    "df = pd.DataFrame(data)\n",
    "\n",
    "# Convert Sentiment to a binary variable (1 for Positive, 0 for Negative)\n",
    "df[\"Sentiment_Binary\"] = df[\"Sentiment\"].apply(lambda x: 1 if x == \"Positive\" else 0)\n",
    "\n",
    "# Calculate point-biserial correlation coefficient\n",
    "r_pb, p_value = stats.pointbiserialr(df[\"Sentiment_Binary\"], df[\"Proportion\"])\n",
    "\n",
    "print(\"Point-biserial correlation coefficient:\", r_pb)\n",
    "print(\"p-value:\", p_value)\n"
   ]
  },
  {
   "cell_type": "code",
   "execution_count": 2,
   "metadata": {},
   "outputs": [
    {
     "name": "stdout",
     "output_type": "stream",
     "text": [
      "Eta-squared: 0.39387061499832676\n"
     ]
    }
   ],
   "source": [
    "import pandas as pd\n",
    "import pingouin as pg\n",
    "\n",
    "data = {'PPG_Category': ['High', 'High', 'High', 'High', 'High', 'High', 'Medium', 'Medium', 'Medium', 'Medium', 'Medium', 'Medium', 'Medium', 'Medium', 'Medium', 'Low', 'Low', 'Low', 'Low', 'Low'],\n",
    "        'Sentiment': [0.81, 0.64, 0.49, 0.71, 0.6, 0.66, 0.455, 0.513, 0.55, 0.68, 0.53, 0.59, 0.68, 0.55, 0.62, 0.46, 0.5, 0.49, 0.47, 0.54]}\n",
    "\n",
    "df = pd.DataFrame(data)\n",
    "\n",
    "result = pg.anova(data=df, dv='Sentiment', between='PPG_Category', detailed=True)\n",
    "eta_squared = result.at[0, 'np2']\n",
    "\n",
    "print(f\"Eta-squared: {eta_squared}\")\n"
   ]
  },
  {
   "cell_type": "code",
   "execution_count": 3,
   "metadata": {},
   "outputs": [],
   "source": [
    "import pandas as pd\n",
    "\n",
    "data_positive = {'PPG_Category': ['High', 'High', 'High', 'High', 'High', 'High', 'Medium', 'Medium', 'Medium', 'Medium', 'Medium', 'Medium', 'Medium', 'Medium', 'Medium', 'Low', 'Low', 'Low', 'Low', 'Low'],\n",
    "                 'Sentiment': [0.81, 0.64, 0.49, 0.71, 0.6, 0.66, 0.455, 0.513, 0.55, 0.68, 0.53, 0.59, 0.68, 0.55, 0.62, 0.46, 0.5, 0.49, 0.47, 0.54]}\n",
    "\n",
    "data_negative = {'PPG_Category': ['High', 'High', 'High', 'High', 'High', 'High', 'Medium', 'Medium', 'Medium', 'Medium', 'Medium', 'Medium', 'Medium', 'Medium', 'Medium', 'Low', 'Low', 'Low', 'Low', 'Low'],\n",
    "                 'Sentiment': [0.19, 0.36, 0.51, 0.29, 0.4, 0.34, 0.545, 0.487, 0.45, 0.32, 0.47, 0.41, 0.32, 0.45, 0.38, 0.54, 0.5, 0.51, 0.53, 0.46]}\n",
    "\n",
    "df_positive = pd.DataFrame(data_positive)\n",
    "df_negative = pd.DataFrame(data_negative)\n"
   ]
  },
  {
   "cell_type": "code",
   "execution_count": 4,
   "metadata": {},
   "outputs": [
    {
     "name": "stdout",
     "output_type": "stream",
     "text": [
      "Eta-squared (positive sentiment): 0.39387061499832676\n",
      "Eta-squared (negative sentiment): 0.39387061499832654\n"
     ]
    }
   ],
   "source": [
    "import pingouin as pg\n",
    "\n",
    "result_positive = pg.anova(data=df_positive, dv='Sentiment', between='PPG_Category', detailed=True)\n",
    "eta_squared_positive = result_positive.at[0, 'np2']\n",
    "\n",
    "result_negative = pg.anova(data=df_negative, dv='Sentiment', between='PPG_Category', detailed=True)\n",
    "eta_squared_negative = result_negative.at[0, 'np2']\n",
    "\n",
    "print(f\"Eta-squared (positive sentiment): {eta_squared_positive}\")\n",
    "print(f\"Eta-squared (negative sentiment): {eta_squared_negative}\")\n"
   ]
  },
  {
   "attachments": {},
   "cell_type": "markdown",
   "metadata": {},
   "source": [
    "End of Season PPG "
   ]
  },
  {
   "cell_type": "code",
   "execution_count": 5,
   "metadata": {},
   "outputs": [
    {
     "name": "stdout",
     "output_type": "stream",
     "text": [
      "Eta-squared (positive sentiment): 0.39387061499832676\n",
      "P-value (positive sentiment): 0.014184217483114452\n",
      "Eta-squared (negative sentiment): 0.39387061499832654\n",
      "P-value (negative sentiment): 0.014184217483114478\n"
     ]
    }
   ],
   "source": [
    "import pandas as pd\n",
    "import pingouin as pg\n",
    "\n",
    "data_positive = {'PPG_Category': ['High', 'High', 'High', 'High', 'High', 'High', 'Medium', 'Medium', 'Medium', 'Medium', 'Medium', 'Medium', 'Medium', 'Medium', 'Medium', 'Low', 'Low', 'Low', 'Low', 'Low'],\n",
    "                 'Sentiment': [0.81, 0.64, 0.49, 0.71, 0.6, 0.66, 0.455, 0.513, 0.55, 0.68, 0.53, 0.59, 0.68, 0.55, 0.62, 0.46, 0.5, 0.49, 0.47, 0.54]}\n",
    "\n",
    "data_negative = {'PPG_Category': ['High', 'High', 'High', 'High', 'High', 'High', 'Medium', 'Medium', 'Medium', 'Medium', 'Medium', 'Medium', 'Medium', 'Medium', 'Medium', 'Low', 'Low', 'Low', 'Low', 'Low'],\n",
    "                 'Sentiment': [0.19, 0.36, 0.51, 0.29, 0.4, 0.34, 0.545, 0.487, 0.45, 0.32, 0.47, 0.41, 0.32, 0.45, 0.38, 0.54, 0.5, 0.51, 0.53, 0.46]}\n",
    "\n",
    "df_positive = pd.DataFrame(data_positive)\n",
    "df_negative = pd.DataFrame(data_negative)\n",
    "\n",
    "result_positive = pg.anova(data=df_positive, dv='Sentiment', between='PPG_Category', detailed=True)\n",
    "eta_squared_positive = result_positive.at[0, 'np2']\n",
    "p_value_positive = result_positive.at[0, 'p-unc']\n",
    "\n",
    "result_negative = pg.anova(data=df_negative, dv='Sentiment', between='PPG_Category', detailed=True)\n",
    "eta_squared_negative = result_negative.at[0, 'np2']\n",
    "p_value_negative = result_negative.at[0, 'p-unc']\n",
    "\n",
    "print(f\"Eta-squared (positive sentiment): {eta_squared_positive}\")\n",
    "print(f\"P-value (positive sentiment): {p_value_positive}\")\n",
    "print(f\"Eta-squared (negative sentiment): {eta_squared_negative}\")\n",
    "print(f\"P-value (negative sentiment): {p_value_negative}\")\n"
   ]
  },
  {
   "attachments": {},
   "cell_type": "markdown",
   "metadata": {},
   "source": [
    "Middle of Season PPG"
   ]
  },
  {
   "cell_type": "code",
   "execution_count": 6,
   "metadata": {},
   "outputs": [
    {
     "name": "stdout",
     "output_type": "stream",
     "text": [
      "Eta-squared (positive sentiment): 0.1776114621858528\n",
      "P-value (positive sentiment): 0.1897382599399187\n",
      "Eta-squared (negative sentiment): 0.17721739130434794\n",
      "P-value (negative sentiment): 0.19051245721243282\n"
     ]
    }
   ],
   "source": [
    "import pandas as pd\n",
    "import pingouin as pg\n",
    "\n",
    "data_positive = {'PPG_Category': ['High', 'High', 'High', 'High', 'High', 'Medium', 'Medium', 'Medium', 'Medium', 'Medium', 'Medium', 'Medium', 'Medium', 'Medium', 'Medium', 'Low', 'Low', 'Low', 'Low', 'Low'],\n",
    "                 'Sentiment': [0.51, 0.59, 0.57, 0.54, 0.52, 0.6, 0.42, 0.53, 0.46, 0.6, 0.44, 0.55, 0.63, 0.23, 0.52, 0.48, 0.45, 0.49, 0.37, 0.39]}\n",
    "\n",
    "data_negative = {'PPG_Category': ['High', 'High', 'High', 'High', 'High', 'Medium', 'Medium', 'Medium', 'Medium', 'Medium', 'Medium', 'Medium', 'Medium', 'Medium', 'Medium', 'Low', 'Low', 'Low', 'Low', 'Low'],\n",
    "                 'Sentiment': [0.49, 0.41, 0.43, 0.46, 0.48, 0.4, 0.58, 0.46, 0.54, 0.4, 0.56, 0.45, 0.37, 0.77, 0.48, 0.52, 0.55, 0.51, 0.63, 0.61]}\n",
    "\n",
    "df_positive = pd.DataFrame(data_positive)\n",
    "df_negative = pd.DataFrame(data_negative)\n",
    "\n",
    "result_positive = pg.anova(data=df_positive, dv='Sentiment', between='PPG_Category', detailed=True)\n",
    "eta_squared_positive = result_positive.at[0, 'np2']\n",
    "p_value_positive = result_positive.at[0, 'p-unc']\n",
    "\n",
    "result_negative = pg.anova(data=df_negative, dv='Sentiment', between='PPG_Category', detailed=True)\n",
    "eta_squared_negative = result_negative.at[0, 'np2']\n",
    "p_value_negative = result_negative.at[0, 'p-unc']\n",
    "\n",
    "print(f\"Eta-squared (positive sentiment): {eta_squared_positive}\")\n",
    "print(f\"P-value (positive sentiment): {p_value_positive}\")\n",
    "print(f\"Eta-squared (negative sentiment): {eta_squared_negative}\")\n",
    "print(f\"P-value (negative sentiment): {p_value_negative}\")\n"
   ]
  },
  {
   "cell_type": "code",
   "execution_count": 5,
   "metadata": {},
   "outputs": [
    {
     "name": "stdout",
     "output_type": "stream",
     "text": [
      "Positive group η²: 0.0024\n",
      "Negative group η²: 0.0045\n"
     ]
    }
   ],
   "source": [
    "import numpy as np\n",
    "import pandas as pd\n",
    "from scipy.stats import f_oneway\n",
    "\n",
    "# Organize the data\n",
    "won_positive = [0.53, 0.32, 0.51, 0.69, 0.8, 0.66, 0.59, 0.64, 0.5, 0.62, 0.69, 0.67, 0.52, 0.38, 0.44, 0.42, 0.63, 0.63, 0.72, 0.56, 0.5, 0.55, 0.58, 0.51, 0.58, 0.69, 0.33, 0.62, 0.57, 0.55, 0.63, 0.51, 0.23, 0.18, 0.13]\n",
    "won_negative = [0.47, 0.68, 0.49, 0.31, 0.2, 0.34, 0.41, 0.36, 0.5, 0.38, 0.31, 0.36, 0.48, 0.62, 0.56, 0.58, 0.37, 0.37, 0.28, 0.44, 0.5, 0.45, 0.42, 0.49, 0.42, 0.31, 0.66, 0.38, 0.43, 0.45, 0.37, 0.49, 0.77, 0.82, 0.87]\n",
    "\n",
    "draw_positive = [0.49, 0.53, 0.65, 0.48, 0.54, 0.58, 0.37, 0.3, 0.62, 0.67, 0.67, 0.62, 0.76, 0.36, 0.65, 0.51, 0.62, 0.19, 0.11]\n",
    "draw_negative = [0.51, 0.47, 0.35, 0.52, 0.46, 0.42, 0.63, 0.7, 0.38, 0.33, 0.33, 0.38, 0.24, 0.64, 0.35, 0.49, 0.38, 0.81, 0.89]\n",
    "\n",
    "lost_positive = [0.6, 0.76, 0.6, 0.55, 0.51, 0.54, 0.5, 0.42, 0.5, 0.6, 0.63, 0.53, 0.49, 0.5, 0.49, 0.62, 0.59, 0.59, 0.46, 0.59,0.51, 0.54, 0.5, 0.43, 0.53, 0.31, 0.66, 0.55, 0.47, 0.54, 0.16, 0.17]\n",
    "lost_negative = [0.4, 0.24, 0.4, 0.45, 0.49, 0.46, 0.5, 0.58, 0.5, 0.4, 0.37, 0.47, 0.51, 0.5, 0.51, 0.38, 0.41, 0.41, 0.54, 0.41, 0.49, 0.46, 0.5, 0.57, 0.47, 0.69, 0.33, 0.45, 0.53, 0.46, 0.84, 0.83, 0.69, 0.69]\n",
    "\n",
    "# Create separate DataFrames for Positive and Negative groups\n",
    "positive_data = pd.DataFrame({'Match': ['Won']*len(won_positive) + ['Draw']*len(draw_positive) + ['Lost']*len(lost_positive),\n",
    "                              'Score': won_positive + draw_positive + lost_positive})\n",
    "negative_data = pd.DataFrame({'Match': ['Won']*len(won_negative) + ['Draw']*len(draw_negative) + ['Lost']*len(lost_negative),\n",
    "                              'Score': won_negative + draw_negative + lost_negative})\n",
    "\n",
    "# Perform the one-way ANOVA test and compute eta-squared for Positive group\n",
    "f_stat_positive, p_value_positive = f_oneway(positive_data[positive_data['Match'] == 'Won']['Score'],\n",
    "                                             positive_data[positive_data['Match'] == 'Draw']['Score'],\n",
    "                                             positive_data[positive_data['Match'] == 'Lost']['Score'])\n",
    "eta_squared_positive = f_stat_positive / (f_stat_positive + len(positive_data) - 1)\n",
    "\n",
    "# Perform the one-way ANOVA test and compute eta-squared for Negative group\n",
    "f_stat_negative, p_value_negative = f_oneway(negative_data[negative_data['Match'] == 'Won']['Score'],\n",
    "                                             negative_data[negative_data['Match'] == 'Draw']['Score'],\n",
    "                                             negative_data[negative_data['Match'] == 'Lost']['Score'])\n",
    "eta_squared_negative = f_stat_negative / (f_stat_negative + len(negative_data) - 1)\n",
    "\n",
    "print(f\"Positive group η²: {eta_squared_positive:.4f}\")\n",
    "print(f\"Negative group η²: {eta_squared_negative:.4f}\")"
   ]
  },
  {
   "cell_type": "code",
   "execution_count": 11,
   "metadata": {},
   "outputs": [
    {
     "name": "stdout",
     "output_type": "stream",
     "text": [
      "H-statistic: 12.421565223152228\n",
      "P-value: 0.029446368935351682\n",
      "Rank-biserial correlation: 0.2588260834422722\n"
     ]
    }
   ],
   "source": [
    "import numpy as np\n",
    "import pandas as pd\n",
    "from scipy.stats import kruskal, rankdata\n",
    "\n",
    "# Organize the data\n",
    "won_positive = [0.53, 0.32, 0.51, 0.69, 0.8, 0.66, 0.59, 0.64, 0.5, 0.62, 0.69, 0.67, 0.52, 0.38, 0.44, 0.42, 0.63, 0.63, 0.72, 0.56, 0.5, 0.55, 0.58, 0.51, 0.58, 0.69, 0.33, 0.62, 0.57, 0.55, 0.63, 0.51, 0.23, 0.18, 0.13]\n",
    "won_negative = [0.47, 0.68, 0.49, 0.31, 0.2, 0.34, 0.41, 0.36, 0.5, 0.38, 0.31, 0.36, 0.48, 0.62, 0.56, 0.58, 0.37, 0.37, 0.28, 0.44, 0.5, 0.45, 0.42, 0.49, 0.42, 0.31, 0.66, 0.38, 0.43, 0.45, 0.37, 0.49, 0.77, 0.82, 0.87]\n",
    "\n",
    "draw_positive = [0.49, 0.53, 0.65, 0.48, 0.54, 0.58, 0.37, 0.3, 0.62, 0.67, 0.67, 0.62, 0.76, 0.36, 0.65, 0.51, 0.62, 0.19, 0.11]\n",
    "draw_negative = [0.51, 0.47, 0.35, 0.52, 0.46, 0.42, 0.63, 0.7, 0.38, 0.33, 0.33, 0.38, 0.24, 0.64, 0.35, 0.49, 0.38, 0.81, 0.89]\n",
    "\n",
    "lost_positive = [0.6, 0.76, 0.6, 0.55, 0.51, 0.54, 0.5, 0.42, 0.5, 0.6, 0.63, 0.53, 0.49, 0.5, 0.49, 0.62, 0.59, 0.59, 0.46, 0.59,0.51, 0.54, 0.5, 0.43, 0.53, 0.31, 0.66, 0.55, 0.47, 0.54, 0.16, 0.17]\n",
    "lost_negative = [0.4, 0.24, 0.4, 0.45, 0.49, 0.46, 0.5, 0.58, 0.5, 0.4, 0.37, 0.47, 0.51, 0.5, 0.51, 0.38, 0.41, 0.41, 0.54, 0.41, 0.49, 0.46, 0.5, 0.57, 0.47, 0.69, 0.33, 0.45, 0.53, 0.46, 0.84, 0.83, 0.69, 0.69]\n",
    "\n",
    "# Combine the data into a single list\n",
    "combined_data = won_positive + won_negative + draw_positive + draw_negative + lost_positive + lost_negative\n",
    "\n",
    "# Create group labels for the data\n",
    "group_labels = (['won_positive'] * len(won_positive) +\n",
    "                ['won_negative'] * len(won_negative) +\n",
    "                ['draw_positive'] * len(draw_positive) +\n",
    "                ['draw_negative'] * len(draw_negative) +\n",
    "                ['lost_positive'] * len(lost_positive) +\n",
    "                ['lost_negative'] * len(lost_negative))\n",
    "\n",
    "# Perform Kruskal-Wallis H-test\n",
    "h_stat, p_value = kruskal(won_positive, won_negative,\n",
    "                          draw_positive, draw_negative,\n",
    "                          lost_positive, lost_negative)\n",
    "\n",
    "# Perform Kruskal-Wallis H-test\n",
    "h_stat, p_value = kruskal(won_positive, won_negative,\n",
    "                          draw_positive, draw_negative,\n",
    "                          lost_positive, lost_negative)\n",
    "\n",
    "# Calculate rank-biserial correlation\n",
    "n_total = len(combined_data)\n",
    "ranked_data = rankdata(combined_data)\n",
    "group_rank_sums = {label: 0 for label in set(group_labels)}\n",
    "\n",
    "for label, rank in zip(group_labels, ranked_data):\n",
    "    group_rank_sums[label] += rank\n",
    "\n",
    "n_groups = len(group_rank_sums)\n",
    "mean_ranks = {label: rank_sum / group_labels.count(label) for label, rank_sum in group_rank_sums.items()}\n",
    "mean_rank_total = np.mean(ranked_data)\n",
    "\n",
    "ss_between = sum(group_labels.count(label) * (mean_rank - mean_rank_total)**2\n",
    "                 for label, mean_rank in mean_ranks.items())\n",
    "\n",
    "rank_biserial = np.sqrt(h_stat / (h_stat + n_total - 1))\n",
    "\n",
    "print(f\"H-statistic: {h_stat}\")\n",
    "print(f\"P-value: {p_value}\")\n",
    "print(f\"Rank-biserial correlation: {rank_biserial}\")"
   ]
  },
  {
   "attachments": {},
   "cell_type": "markdown",
   "metadata": {},
   "source": [
    "Middle of Season PPG - Kruskal-Wallis H-TEST"
   ]
  },
  {
   "cell_type": "code",
   "execution_count": 12,
   "metadata": {},
   "outputs": [
    {
     "name": "stdout",
     "output_type": "stream",
     "text": [
      "H-statistic: 11.382229920451623\n",
      "P-value: 0.044306617804667874\n",
      "Rank-biserial correlation: 0.43416929193712983\n"
     ]
    }
   ],
   "source": [
    "import numpy as np\n",
    "from scipy.stats import kruskal, rankdata\n",
    "\n",
    "# Replace these lists with your data\n",
    "high_ppg_positive = [0.51, 0.59, 0.57, 0.54, 0.52]\n",
    "high_ppg_negative = [0.49, 0.41, 0.43, 0.46, 0.48]\n",
    "medium_ppg_positive = [0.6, 0.42, 0.53, 0.46, 0.6, 0.44, 0.55, 0.63, 0.23, 0.52, 0.69, 0.67, 0.52, 0.57]\n",
    "medium_ppg_negative = [0.4, 0.58, 0.46, 0.54, 0.4, 0.56, 0.45, 0.37, 0.77, 0.48, 0.31, 0.33, 0.48, 0.42]\n",
    "low_ppg_positive = [0.48, 0.45, 0.49, 0.37, 0.39, 0.55]\n",
    "low_ppg_negative = [0.52, 0.55, 0.51, 0.63, 0.61, 0.45]\n",
    "\n",
    "# Combine the data into a single list\n",
    "combined_data = (high_ppg_positive + high_ppg_negative +\n",
    "                 medium_ppg_positive + medium_ppg_negative +\n",
    "                 low_ppg_positive + low_ppg_negative)\n",
    "\n",
    "# Create group labels for the data\n",
    "group_labels = (['high_ppg_positive'] * len(high_ppg_positive) +\n",
    "                ['high_ppg_negative'] * len(high_ppg_negative) +\n",
    "                ['medium_ppg_positive'] * len(medium_ppg_positive) +\n",
    "                ['medium_ppg_negative'] * len(medium_ppg_negative) +\n",
    "                ['low_ppg_positive'] * len(low_ppg_positive) +\n",
    "                ['low_ppg_negative'] * len(low_ppg_negative))\n",
    "\n",
    "# Perform Kruskal-Wallis H-test\n",
    "h_stat, p_value = kruskal(high_ppg_positive, high_ppg_negative,\n",
    "                          medium_ppg_positive, medium_ppg_negative,\n",
    "                          low_ppg_positive, low_ppg_negative)\n",
    "\n",
    "# Calculate rank-biserial correlation\n",
    "n_total = len(combined_data)\n",
    "ranked_data = rankdata(combined_data)\n",
    "group_rank_sums = {label: 0 for label in set(group_labels)}\n",
    "\n",
    "for label, rank in zip(group_labels, ranked_data):\n",
    "    group_rank_sums[label] += rank\n",
    "\n",
    "n_groups = len(group_rank_sums)\n",
    "mean_ranks = {label: rank_sum / group_labels.count(label) for label, rank_sum in group_rank_sums.items()}\n",
    "mean_rank_total = np.mean(ranked_data)\n",
    "\n",
    "ss_between = sum(group_labels.count(label) * (mean_rank - mean_rank_total)**2\n",
    "                 for label, mean_rank in mean_ranks.items())\n",
    "\n",
    "rank_biserial = np.sqrt(h_stat / (h_stat + n_total - 1))\n",
    "\n",
    "print(f\"H-statistic: {h_stat}\")\n",
    "print(f\"P-value: {p_value}\")\n",
    "print(f\"Rank-biserial correlation: {rank_biserial}\")\n"
   ]
  },
  {
   "cell_type": "code",
   "execution_count": 13,
   "metadata": {},
   "outputs": [
    {
     "name": "stdout",
     "output_type": "stream",
     "text": [
      "H-statistic: 25.41339129072683\n",
      "P-value: 0.0001159210562108758\n",
      "Rank-biserial correlation: 0.6281208782395873\n"
     ]
    }
   ],
   "source": [
    "import numpy as np\n",
    "from scipy.stats import kruskal, rankdata\n",
    "\n",
    "# Replace these lists with your data\n",
    "high_ppg_positive = [0.81, 0.64, 0.49, 0.71, 0.6, 0.66]\n",
    "high_ppg_negative = [0.19, 0.36, 0.51, 0.29, 0.4, 0.34]\n",
    "medium_ppg_positive = [0.46, 0.51, 0.55, 0.68, 0.53, 0.59, 0.68, 0.55, 0.62]\n",
    "medium_ppg_negative = [0.54, 0.487, 0.45, 0.32, 0.47, 0.41, 0.32, 0.45, 0.38]\n",
    "low_ppg_positive = [0.46, 0.5, 0.49, 0.47, 0.54]\n",
    "low_ppg_negative = [0.54, 0.5, 0.51, 0.53, 0.46]\n",
    "\n",
    "# Combine the data into a single list\n",
    "combined_data = (high_ppg_positive + high_ppg_negative +\n",
    "                 medium_ppg_positive + medium_ppg_negative +\n",
    "                 low_ppg_positive + low_ppg_negative)\n",
    "\n",
    "# Create group labels for the data\n",
    "group_labels = (['high_ppg_positive'] * len(high_ppg_positive) +\n",
    "                ['high_ppg_negative'] * len(high_ppg_negative) +\n",
    "                ['medium_ppg_positive'] * len(medium_ppg_positive) +\n",
    "                ['medium_ppg_negative'] * len(medium_ppg_negative) +\n",
    "                ['low_ppg_positive'] * len(low_ppg_positive) +\n",
    "                ['low_ppg_negative'] * len(low_ppg_negative))\n",
    "\n",
    "# Perform Kruskal-Wallis H-test\n",
    "h_stat, p_value = kruskal(high_ppg_positive, high_ppg_negative,\n",
    "                          medium_ppg_positive, medium_ppg_negative,\n",
    "                          low_ppg_positive, low_ppg_negative)\n",
    "\n",
    "# Calculate rank-biserial correlation\n",
    "n_total = len(combined_data)\n",
    "ranked_data = rankdata(combined_data)\n",
    "group_rank_sums = {label: 0 for label in set(group_labels)}\n",
    "\n",
    "for label, rank in zip(group_labels, ranked_data):\n",
    "    group_rank_sums[label] += rank\n",
    "\n",
    "n_groups = len(group_rank_sums)\n",
    "mean_ranks = {label: rank_sum / group_labels.count(label) for label, rank_sum in group_rank_sums.items()}\n",
    "mean_rank_total = np.mean(ranked_data)\n",
    "\n",
    "ss_between = sum(group_labels.count(label) * (mean_rank - mean_rank_total)**2\n",
    "                 for label, mean_rank in mean_ranks.items())\n",
    "\n",
    "rank_biserial = np.sqrt(h_stat / (h_stat + n_total - 1))\n",
    "\n",
    "print(f\"H-statistic: {h_stat}\")\n",
    "print(f\"P-value: {p_value}\")\n",
    "print(f\"Rank-biserial correlation: {rank_biserial}\")\n"
   ]
  },
  {
   "attachments": {},
   "cell_type": "markdown",
   "metadata": {},
   "source": [
    "Rank-biserial correlation"
   ]
  },
  {
   "cell_type": "code",
   "execution_count": 14,
   "metadata": {},
   "outputs": [
    {
     "name": "stdout",
     "output_type": "stream",
     "text": [
      "Correlation for Match Won: SignificanceResult(statistic=-0.9993988289536501, pvalue=9.077124466742134e-50)\n",
      "Correlation for Match Draw: SignificanceResult(statistic=-0.9999999999999999, pvalue=0.0)\n",
      "Correlation for Match Lost: SignificanceResult(statistic=-0.9999145299479045, pvalue=7.433855327356925e-62)\n",
      "Correlation for High PPG: SignificanceResult(statistic=-0.9999999999999999, pvalue=0.0)\n",
      "Correlation for Medium PPG: SignificanceResult(statistic=-0.9995343370404636, pvalue=1.470580358806051e-19)\n",
      "Correlation for Low PPG: SignificanceResult(statistic=-1.0, pvalue=0.0)\n"
     ]
    }
   ],
   "source": [
    "import scipy.stats as stats\n",
    "\n",
    "# Match Won\n",
    "match_won_positive = [0.53, 0.32, 0.51, 0.69, 0.8, 0.66, 0.59, 0.64, 0.5, 0.62, 0.69, 0.67, 0.52, 0.38, 0.44, 0.42, 0.63, 0.63, 0.72, 0.56, 0.5, 0.55, 0.58, 0.51, 0.58, 0.69, 0.33, 0.62, 0.57, 0.55, 0.63, 0.51, 0.23, 0.18, 0.13]\n",
    "match_won_negative = [0.47, 0.68, 0.49, 0.31, 0.2, 0.34, 0.41, 0.36, 0.5, 0.38, 0.31, 0.36, 0.48, 0.62, 0.56, 0.58, 0.37, 0.37, 0.28, 0.44, 0.5, 0.45, 0.42, 0.49, 0.42, 0.31, 0.66, 0.38, 0.43, 0.45, 0.37, 0.49, 0.77, 0.82, 0.87]\n",
    "\n",
    "# Match Draw\n",
    "match_draw_positive = [0.49, 0.53, 0.65, 0.48, 0.54, 0.58, 0.37, 0.3, 0.62, 0.67, 0.67, 0.62, 0.76, 0.36, 0.65, 0.51, 0.62, 0.19, 0.11]\n",
    "match_draw_negative = [0.51, 0.47, 0.35, 0.52, 0.46, 0.42, 0.63, 0.7, 0.38, 0.33, 0.33, 0.38, 0.24, 0.64, 0.35, 0.49, 0.38, 0.81, 0.89]\n",
    "\n",
    "match_lost_positive = [0.6, 0.76, 0.6, 0.55, 0.51, 0.54, 0.5, 0.42, 0.5, 0.6, 0.63, 0.53, 0.49, 0.5, 0.49, 0.62, 0.59, 0.59, 0.46, 0.59, 0.51, 0.54, 0.5, 0.43, 0.53, 0.31, 0.66, 0.55, 0.47, 0.54, 0.16, 0.17, 0.31, 0.31]\n",
    "match_lost_negative = [0.4, 0.24, 0.4, 0.45, 0.49, 0.46, 0.5, 0.58, 0.5, 0.4, 0.37, 0.47, 0.51, 0.5, 0.51, 0.38, 0.41, 0.41, 0.54, 0.41, 0.49, 0.46, 0.5, 0.57, 0.47, 0.69, 0.33, 0.45, 0.53, 0.46, 0.84, 0.83, 0.69, 0.69]\n",
    "\n",
    "high_ppg_positive = [0.51, 0.59, 0.57, 0.54, 0.52]\n",
    "high_ppg_negative = [0.49, 0.41, 0.43, 0.46, 0.48]\n",
    "\n",
    "medium_ppg_positive = [0.6, 0.42, 0.53, 0.46, 0.6, 0.44, 0.55, 0.63, 0.23, 0.52, 0.69, 0.67, 0.52, 0.57]\n",
    "medium_ppg_negative = [0.4, 0.58, 0.46, 0.54, 0.4, 0.56, 0.45, 0.37, 0.77, 0.48, 0.31, 0.33, 0.48, 0.42]\n",
    "\n",
    "low_ppg_positive = [0.48, 0.45, 0.49, 0.37, 0.39, 0.55]\n",
    "low_ppg_negative = [0.52, 0.55, 0.51, 0.63, 0.61, 0.45]\n",
    "\n",
    "correlation_match_won = stats.pointbiserialr(match_won_positive, match_won_negative)\n",
    "correlation_match_draw = stats.pointbiserialr(match_draw_positive, match_draw_negative)\n",
    "correlation_match_lost = stats.pointbiserialr(match_lost_positive, match_lost_negative)\n",
    "correlation_high_ppg = stats.pointbiserialr(high_ppg_positive, high_ppg_negative)\n",
    "correlation_medium_ppg = stats.pointbiserialr(medium_ppg_positive, medium_ppg_negative)\n",
    "correlation_low_ppg = stats.pointbiserialr(low_ppg_positive, low_ppg_negative)\n",
    "\n",
    "print(\"Correlation for Match Won:\", correlation_match_won)\n",
    "print(\"Correlation for Match Draw:\", correlation_match_draw)\n",
    "print(\"Correlation for Match Lost:\", correlation_match_lost)\n",
    "print(\"Correlation for High PPG:\", correlation_high_ppg)\n",
    "print(\"Correlation for Medium PPG:\", correlation_medium_ppg)\n",
    "print(\"Correlation for Low PPG:\", correlation_low_ppg)\n"
   ]
  },
  {
   "cell_type": "code",
   "execution_count": 16,
   "metadata": {},
   "outputs": [
    {
     "name": "stdout",
     "output_type": "stream",
     "text": [
      "Shapiro-Wilk p-value for High Positive: 0.68\n",
      "Shapiro-Wilk p-value for High Negative: 0.68\n",
      "Shapiro-Wilk p-value for Medium Positive: 0.25\n",
      "Shapiro-Wilk p-value for Medium Negative: 0.23\n",
      "Shapiro-Wilk p-value for Low Positive: 0.82\n",
      "Shapiro-Wilk p-value for Low Negative: 0.82\n"
     ]
    }
   ],
   "source": [
    "import numpy as np\n",
    "from scipy.stats import shapiro\n",
    "\n",
    "# Positive and negative sentiment decimals for each PPG category\n",
    "high_positive = [0.51, 0.59, 0.57, 0.54, 0.52]\n",
    "high_negative = [0.49, 0.41, 0.43, 0.46, 0.48]\n",
    "medium_positive = [0.6, 0.42, 0.53, 0.46, 0.6, 0.44, 0.55, 0.63, 0.23, 0.52, 0.69, 0.67, 0.52, 0.57]\n",
    "medium_negative = [0.4, 0.58, 0.46, 0.54, 0.4, 0.56, 0.45, 0.37, 0.77, 0.48, 0.31, 0.33, 0.48, 0.42]\n",
    "low_positive = [0.48, 0.45, 0.49, 0.37, 0.39, 0.55]\n",
    "low_negative = [0.52, 0.55, 0.51, 0.63, 0.61, 0.45]\n",
    "\n",
    "# Perform the Shapiro-Wilk test for each list\n",
    "_, high_positive_p = shapiro(high_positive)\n",
    "_, high_negative_p = shapiro(high_negative)\n",
    "_, medium_positive_p = shapiro(medium_positive)\n",
    "_, medium_negative_p = shapiro(medium_negative)\n",
    "_, low_positive_p = shapiro(low_positive)\n",
    "_, low_negative_p = shapiro(low_negative)\n",
    "\n",
    "# Print the p-values\n",
    "print(f\"Shapiro-Wilk p-value for High Positive: {high_positive_p:.2f}\")\n",
    "print(f\"Shapiro-Wilk p-value for High Negative: {high_negative_p:.2f}\")\n",
    "print(f\"Shapiro-Wilk p-value for Medium Positive: {medium_positive_p:.2f}\")\n",
    "print(f\"Shapiro-Wilk p-value for Medium Negative: {medium_negative_p:.2f}\")\n",
    "print(f\"Shapiro-Wilk p-value for Low Positive: {low_positive_p:.2f}\")\n",
    "print(f\"Shapiro-Wilk p-value for Low Negative: {low_negative_p:.2f}\")\n"
   ]
  },
  {
   "cell_type": "code",
   "execution_count": 15,
   "metadata": {},
   "outputs": [
    {
     "name": "stdout",
     "output_type": "stream",
     "text": [
      "Pearson's correlation coefficient for positive sentiment: 0.32\n",
      "Pearson's correlation coefficient for negative sentiment: -0.32\n"
     ]
    }
   ],
   "source": [
    "import numpy as np\n",
    "from scipy.stats import pearsonr\n",
    "\n",
    "# Independent variable (sentiment category decimal)\n",
    "positive_sentiment = [\n",
    "    0.51, 0.59, 0.57, 0.54, 0.52,\n",
    "    0.6, 0.42, 0.53, 0.46, 0.6, 0.44, 0.55, 0.63, 0.23, 0.52, 0.69, 0.67, 0.52, 0.57,\n",
    "    0.48, 0.45, 0.49, 0.37, 0.39, 0.55\n",
    "]\n",
    "\n",
    "negative_sentiment = [\n",
    "    0.49, 0.41, 0.43, 0.46, 0.48,\n",
    "    0.4, 0.58, 0.46, 0.54, 0.4, 0.56, 0.45, 0.37, 0.77, 0.48, 0.31, 0.33, 0.48, 0.42,\n",
    "    0.52, 0.55, 0.51, 0.63, 0.61, 0.45\n",
    "]\n",
    "\n",
    "# Dependent variable (PPG category)\n",
    "positive_ppg = [3, 3, 3, 3, 3, 2, 2, 2, 2, 2, 2, 2, 2, 2, 2, 2, 2, 2, 2, 1, 1, 1, 1, 1, 1]\n",
    "negative_ppg = [3, 3, 3, 3, 3, 2, 2, 2, 2, 2, 2, 2, 2, 2, 2, 2, 2, 2, 2, 1, 1, 1, 1, 1, 1]\n",
    "\n",
    "# Calculate the Pearson's correlation coefficient for positive and negative sentiments separately\n",
    "positive_corr, _ = pearsonr(positive_sentiment, positive_ppg)\n",
    "negative_corr, _ = pearsonr(negative_sentiment, negative_ppg)\n",
    "\n",
    "print(f\"Pearson's correlation coefficient for positive sentiment: {positive_corr:.2f}\")\n",
    "print(f\"Pearson's correlation coefficient for negative sentiment: {negative_corr:.2f}\")\n"
   ]
  },
  {
   "cell_type": "code",
   "execution_count": 18,
   "metadata": {},
   "outputs": [
    {
     "name": "stdout",
     "output_type": "stream",
     "text": [
      "ANOVA results: F-value = 0.0003, p-value = 0.9997\n",
      "Correlation coefficient: 0.1370\n"
     ]
    }
   ],
   "source": [
    "import pandas as pd\n",
    "import numpy as np\n",
    "import scipy.stats as stats\n",
    "\n",
    "# Data\n",
    "high_ppg_positive = [0.51, 0.59, 0.57, 0.54, 0.52]\n",
    "high_ppg_negative = [0.49, 0.41, 0.43, 0.46, 0.48]\n",
    "\n",
    "medium_ppg_positive = [0.6, 0.42, 0.53, 0.46, 0.6, 0.44, 0.55, 0.63, 0.23, 0.52, 0.69, 0.67, 0.52, 0.57]\n",
    "medium_ppg_negative = [0.4, 0.58, 0.46, 0.54, 0.4, 0.56, 0.45, 0.37, 0.77, 0.48, 0.31, 0.33, 0.48, 0.42]\n",
    "\n",
    "low_ppg_positive = [0.48, 0.45, 0.49, 0.37, 0.39, 0.55]\n",
    "low_ppg_negative = [0.52, 0.55, 0.51, 0.63, 0.61, 0.45]\n",
    "\n",
    "# Create a DataFrame\n",
    "data = pd.DataFrame({\n",
    "    \"Sentiment\": np.repeat([\"Positive\", \"Negative\"], [len(high_ppg_positive) + len(medium_ppg_positive) + len(low_ppg_positive),\n",
    "                                                      len(high_ppg_negative) + len(medium_ppg_negative) + len(low_ppg_negative)]),\n",
    "    \"PPG\": np.concatenate([np.repeat(\"High\", len(high_ppg_positive)), np.repeat(\"High\", len(high_ppg_negative)),\n",
    "                           np.repeat(\"Medium\", len(medium_ppg_positive)), np.repeat(\"Medium\", len(medium_ppg_negative)),\n",
    "                           np.repeat(\"Low\", len(low_ppg_positive)), np.repeat(\"Low\", len(low_ppg_negative))]),\n",
    "    \"SentimentValue\": np.concatenate([high_ppg_positive, high_ppg_negative, medium_ppg_positive, medium_ppg_negative, low_ppg_positive, low_ppg_negative])\n",
    "})\n",
    "\n",
    "# ANOVA test\n",
    "anova_results = stats.f_oneway(data[data[\"PPG\"] == \"High\"][\"SentimentValue\"],\n",
    "                               data[data[\"PPG\"] == \"Medium\"][\"SentimentValue\"],\n",
    "                               data[data[\"PPG\"] == \"Low\"][\"SentimentValue\"])\n",
    "\n",
    "print(f\"ANOVA results: F-value = {anova_results.statistic:.4f}, p-value = {anova_results.pvalue:.4f}\")\n",
    "\n",
    "# Correlation coefficient\n",
    "correlation_coefficient, _ = stats.pearsonr(data[\"Sentiment\"].apply(lambda x: 1 if x == \"Positive\" else -1), data[\"SentimentValue\"])\n",
    "\n",
    "print(f\"Correlation coefficient: {correlation_coefficient:.4f}\")\n"
   ]
  },
  {
   "cell_type": "code",
   "execution_count": 23,
   "metadata": {},
   "outputs": [
    {
     "name": "stdout",
     "output_type": "stream",
     "text": [
      "Eta-squared (positive sentiment): 0.35311423047827195\n",
      "P-value (positive sentiment): 0.02466235689675315\n",
      "Eta-squared (negative sentiment): 0.35311423047827195\n",
      "P-value (negative sentiment): 0.024662356896753196\n"
     ]
    }
   ],
   "source": [
    "import pandas as pd\n",
    "import pingouin as pg\n",
    "\n",
    "data_positive = {'PPG_Category': ['High', 'High', 'High', 'High', 'High', 'Medium', 'Medium', 'Medium', 'Medium', 'Medium', 'Medium', 'Medium', 'Medium', 'Medium', 'Medium', 'Low', 'Low', 'Low', 'Low', 'Low'],\n",
    "                 'Sentiment': [0.81, 0.64, 0.49, 0.71, 0.6, 0.66, 0.45, 0.51, 0.55, 0.68, 0.53, 0.59, 0.68, 0.55, 0.62, 0.46, 0.5, 0.49, 0.47, 0.54]}\n",
    "\n",
    "data_negative = {'PPG_Category': ['High', 'High', 'High', 'High', 'High', 'Medium', 'Medium', 'Medium', 'Medium', 'Medium', 'Medium', 'Medium', 'Medium', 'Medium', 'Medium', 'Low', 'Low', 'Low', 'Low', 'Low'],\n",
    "                 'Sentiment': [0.19, 0.36, 0.51, 0.29, 0.4, 0.34, 0.55, 0.49, 0.45, 0.32, 0.47, 0.41, 0.32, 0.45, 0.38, 0.54, 0.5, 0.51, 0.53, 0.46]}\n",
    "\n",
    "df_positive = pd.DataFrame(data_positive)\n",
    "df_negative = pd.DataFrame(data_negative)\n",
    "\n",
    "result_positive = pg.anova(data=df_positive, dv='Sentiment', between='PPG_Category', detailed=True)\n",
    "eta_squared_positive = result_positive.at[0, 'np2']\n",
    "p_value_positive = result_positive.at[0, 'p-unc']\n",
    "\n",
    "result_negative = pg.anova(data=df_negative, dv='Sentiment', between='PPG_Category', detailed=True)\n",
    "eta_squared_negative = result_negative.at[0, 'np2']\n",
    "p_value_negative = result_negative.at[0, 'p-unc']\n",
    "\n",
    "print(f\"Eta-squared (positive sentiment): {eta_squared_positive}\")\n",
    "print(f\"P-value (positive sentiment): {p_value_positive}\")\n",
    "print(f\"Eta-squared (negative sentiment): {eta_squared_negative}\")\n",
    "print(f\"P-value (negative sentiment): {p_value_negative}\")\n"
   ]
  },
  {
   "cell_type": "code",
   "execution_count": 24,
   "metadata": {},
   "outputs": [
    {
     "name": "stdout",
     "output_type": "stream",
     "text": [
      "Eta-squared (positive sentiment): 0.18018252933507165\n",
      "P-value (positive sentiment): 0.18475488799718828\n",
      "Eta-squared (negative sentiment): 0.1733841842188902\n",
      "P-value (negative sentiment): 0.1981899092805913\n"
     ]
    }
   ],
   "source": [
    "import pandas as pd\n",
    "import pingouin as pg\n",
    "\n",
    "data_positive = {'PPG_Category': ['High', 'High', 'High', 'High', 'High', 'Medium', 'Medium', 'Medium', 'Medium', 'Medium', 'Medium', 'Medium', 'Medium', 'Medium', 'Medium', 'Low', 'Low', 'Low', 'Low', 'Low'],\n",
    "                 'Sentiment': [0.51, 0.59, 0.57, 0.54, 0.52, 0.6, 0.58, 0.54, 0.46, 0.6, 0.44, 0.45, 0.63, 0.23, 0.51, 0.48, 0.45, 0.49, 0.37, 0.39]}\n",
    "\n",
    "data_negative = {'PPG_Category': ['High', 'High', 'High', 'High', 'High', 'Medium', 'Medium', 'Medium', 'Medium', 'Medium', 'Medium', 'Medium', 'Medium', 'Medium', 'Medium', 'Low', 'Low', 'Low', 'Low', 'Low'],\n",
    "                 'Sentiment': [0.49, 0.41, 0.43, 0.47, 0.48, 0.4, 0.42, 0.46, 0.54, 0.4, 0.57, 0.55, 0.37, 0.77, 0.49, 0.52, 0.55, 0.51, 0.63, 0.61]}\n",
    "\n",
    "df_positive = pd.DataFrame(data_positive)\n",
    "df_negative = pd.DataFrame(data_negative)\n",
    "\n",
    "result_positive = pg.anova(data=df_positive, dv='Sentiment', between='PPG_Category', detailed=True)\n",
    "eta_squared_positive = result_positive.at[0, 'np2']\n",
    "p_value_positive = result_positive.at[0, 'p-unc']\n",
    "\n",
    "result_negative = pg.anova(data=df_negative, dv='Sentiment', between='PPG_Category', detailed=True)\n",
    "eta_squared_negative = result_negative.at[0, 'np2']\n",
    "p_value_negative = result_negative.at[0, 'p-unc']\n",
    "\n",
    "print(f\"Eta-squared (positive sentiment): {eta_squared_positive}\")\n",
    "print(f\"P-value (positive sentiment): {p_value_positive}\")\n",
    "print(f\"Eta-squared (negative sentiment): {eta_squared_negative}\")\n",
    "print(f\"P-value (negative sentiment): {p_value_negative}\")\n"
   ]
  },
  {
   "cell_type": "code",
   "execution_count": 5,
   "metadata": {},
   "outputs": [
    {
     "name": "stdout",
     "output_type": "stream",
     "text": [
      "DataFrames:\n",
      "\n",
      "Match Win:\n",
      "    match_win_positive  match_win_negative\n",
      "0                 0.67                0.33\n",
      "1                 0.50                0.50\n",
      "2                 0.73                0.27\n",
      "3                 0.72                0.28\n",
      "4                 0.89                0.11\n",
      "5                 0.71                0.29\n",
      "6                 0.75                0.25\n",
      "7                 0.76                0.24\n",
      "8                 0.88                0.12\n",
      "9                 0.74                0.26\n",
      "10                0.71                0.29\n",
      "11                0.75                0.25\n",
      "\n",
      "Match Draw:\n",
      "   match_draw_positive  match_draw_negative\n",
      "0                 0.59                 0.41\n",
      "1                 0.80                 0.20\n",
      "2                 0.66                 0.34\n",
      "3                 0.29                 0.71\n",
      "\n",
      "Match Loss:\n",
      "   match_loss_positive  match_loss_negative\n",
      "0                 0.70                 0.30\n",
      "1                 0.50                 0.50\n",
      "2                 0.60                 0.40\n",
      "3                 0.69                 0.31\n",
      "4                 0.74                 0.26\n",
      "5                 0.83                 0.17\n",
      "6                 0.62                 0.38\n",
      "Correlation between positive sentiment and match win: -1.0\n",
      "Correlation between negative sentiment and match loss: -1.0\n",
      "Correlation between positive sentiment and match draw: -1.0\n"
     ]
    }
   ],
   "source": [
    "import pandas as pd\n",
    "\n",
    "data_win = {\n",
    "    \"match_win_positive\": [0.67, 0.5, 0.73, 0.72, 0.89, 0.71, 0.75, 0.76, 0.88, 0.74, 0.71, 0.75],\n",
    "    \"match_win_negative\": [0.33, 0.5, 0.27, 0.28, 0.11, 0.29, 0.25, 0.24, 0.12, 0.26, 0.29, 0.25]\n",
    "}\n",
    "\n",
    "data_draw = {\n",
    "    \"match_draw_positive\": [0.59, 0.8, 0.66, 0.29],\n",
    "    \"match_draw_negative\": [0.41, 0.2, 0.34, 0.71]\n",
    "}\n",
    "\n",
    "data_loss = {\n",
    "    \"match_loss_positive\": [0.7, 0.5, 0.6, 0.69, 0.74, 0.83, 0.62],\n",
    "    \"match_loss_negative\": [0.3, 0.5, 0.4, 0.31, 0.26, 0.17, 0.38]\n",
    "}\n",
    "\n",
    "df_win = pd.DataFrame(data_win)\n",
    "df_draw = pd.DataFrame(data_draw)\n",
    "df_loss = pd.DataFrame(data_loss)\n",
    "\n",
    "corr_win = df_win[\"match_win_positive\"].corr(df_win[\"match_win_negative\"])\n",
    "corr_loss = df_loss[\"match_loss_positive\"].corr(df_loss[\"match_loss_negative\"])\n",
    "corr_draw = df_draw[\"match_draw_positive\"].corr(df_draw[\"match_draw_negative\"])\n",
    "\n",
    "print(\"DataFrames:\")\n",
    "print(\"\\nMatch Win:\")\n",
    "print(df_win)\n",
    "print(\"\\nMatch Draw:\")\n",
    "print(df_draw)\n",
    "print(\"\\nMatch Loss:\")\n",
    "print(df_loss)\n",
    "\n",
    "print(f\"Correlation between positive sentiment and match win: {corr_win}\")\n",
    "print(f\"Correlation between negative sentiment and match loss: {corr_loss}\")\n",
    "print(f\"Correlation between positive sentiment and match draw: {corr_draw}\")"
   ]
  },
  {
   "cell_type": "code",
   "execution_count": 6,
   "metadata": {},
   "outputs": [
    {
     "name": "stdout",
     "output_type": "stream",
     "text": [
      "Correlation between positive sentiment and match win: 0.0020703933747412626\n",
      "Correlation between negative sentiment and match loss: 0.020399354302657505\n",
      "Correlation between positive sentiment and match draw: 0.021449648402926222\n",
      "Correlation between negative sentiment and match draw: -0.021449648402926222\n"
     ]
    }
   ],
   "source": [
    "import pandas as pd\n",
    "import numpy as np\n",
    "from scipy.stats import pointbiserialr\n",
    "\n",
    "data = [\n",
    "    {\"sentiment\":0.67, \"outcome\":\"win\", \"type\":\"positive\"},\n",
    "    {\"sentiment\":0.5, \"outcome\":\"win\", \"type\":\"positive\"},\n",
    "    {\"sentiment\":0.73, \"outcome\":\"win\", \"type\":\"positive\"},\n",
    "    {\"sentiment\":0.89, \"outcome\":\"win\", \"type\":\"positive\"},\n",
    "    {\"sentiment\":0.71, \"outcome\":\"win\", \"type\":\"positive\"},\n",
    "    {\"sentiment\":0.75, \"outcome\":\"win\", \"type\":\"positive\"},\n",
    "    {\"sentiment\":0.76, \"outcome\":\"win\", \"type\":\"positive\"},\n",
    "    {\"sentiment\":0.88, \"outcome\":\"win\", \"type\":\"positive\"},\n",
    "    {\"sentiment\":0.74, \"outcome\":\"win\", \"type\":\"positive\"},\n",
    "    {\"sentiment\":0.71, \"outcome\":\"win\", \"type\":\"positive\"},\n",
    "    {\"sentiment\":0.75, \"outcome\":\"win\", \"type\":\"positive\"},\n",
    "    {\"sentiment\":0.33, \"outcome\":\"win\", \"type\":\"negative\"},\n",
    "    {\"sentiment\":0.5, \"outcome\":\"win\", \"type\":\"negative\"},\n",
    "    {\"sentiment\":0.27, \"outcome\":\"win\", \"type\":\"negative\"},\n",
    "    {\"sentiment\":0.28, \"outcome\":\"win\", \"type\":\"negative\"},\n",
    "    {\"sentiment\":0.11, \"outcome\":\"win\", \"type\":\"negative\"},\n",
    "    {\"sentiment\":0.29, \"outcome\":\"win\", \"type\":\"negative\"},\n",
    "    {\"sentiment\":0.25, \"outcome\":\"win\", \"type\":\"negative\"},\n",
    "    {\"sentiment\":0.24, \"outcome\":\"win\", \"type\":\"negative\"},\n",
    "    {\"sentiment\":0.12, \"outcome\":\"win\", \"type\":\"negative\"},\n",
    "    {\"sentiment\":0.26, \"outcome\":\"win\", \"type\":\"negative\"},\n",
    "    {\"sentiment\":0.29, \"outcome\":\"win\", \"type\":\"negative\"},\n",
    "    {\"sentiment\":0.25, \"outcome\":\"win\", \"type\":\"negative\"},\n",
    "    {\"sentiment\":0.59, \"outcome\":\"draw\", \"type\":\"positive\"},\n",
    "    {\"sentiment\":0.8, \"outcome\":\"draw\", \"type\":\"positive\"},\n",
    "    {\"sentiment\":0.66, \"outcome\":\"draw\", \"type\":\"positive\"},\n",
    "    {\"sentiment\":0.29, \"outcome\":\"draw\", \"type\":\"positive\"},\n",
    "    {\"sentiment\":0.41, \"outcome\":\"draw\", \"type\":\"negative\"},\n",
    "    {\"sentiment\":0.2, \"outcome\":\"draw\", \"type\":\"negative\"},\n",
    "    {\"sentiment\":0.34, \"outcome\":\"draw\", \"type\":\"negative\"},\n",
    "    {\"sentiment\":0.71, \"outcome\":\"draw\", \"type\":\"negative\"},\n",
    "    {\"sentiment\":0.7, \"outcome\":\"loss\", \"type\":\"positive\"},\n",
    "    {\"sentiment\":0.5, \"outcome\":\"loss\", \"type\":\"positive\"},\n",
    "    {\"sentiment\":0.6, \"outcome\":\"loss\", \"type\":\"positive\"},\n",
    "    {\"sentiment\":0.74, \"outcome\":\"loss\", \"type\":\"positive\"},\n",
    "    {\"sentiment\":0.83, \"outcome\":\"loss\", \"type\":\"positive\"},\n",
    "    {\"sentiment\":0.62, \"outcome\":\"loss\", \"type\":\"positive\"},\n",
    "    {\"sentiment\":0.3, \"outcome\":\"loss\", \"type\":\"negative\"},\n",
    "    {\"sentiment\":0.5, \"outcome\":\"loss\", \"type\":\"negative\"},\n",
    "    {\"sentiment\":0.4, \"outcome\":\"loss\", \"type\":\"negative\"},\n",
    "    {\"sentiment\":0.31, \"outcome\":\"loss\", \"type\":\"negative\"},\n",
    "    {\"sentiment\":0.26, \"outcome\":\"loss\", \"type\":\"negative\"},\n",
    "    {\"sentiment\":0.17, \"outcome\":\"loss\", \"type\":\"negative\"},\n",
    "    {\"sentiment\":0.38, \"outcome\":\"loss\", \"type\":\"negative\"},\n",
    "]\n",
    "\n",
    "df = pd.DataFrame(data)\n",
    "\n",
    "df[\"win\"] = np.where(df[\"outcome\"] == \"win\", 1, 0)\n",
    "df[\"loss\"] = np.where(df[\"outcome\"] == \"loss\", 1, 0)\n",
    "df[\"draw\"] = np.where(df[\"outcome\"] == \"draw\", 1, 0)\n",
    "\n",
    "df[\"positive\"] = np.where(df[\"type\"] == \"positive\", 1, 0)\n",
    "df[\"negative\"] = np.where(df[\"type\"] == \"negative\", 1, 0)\n",
    "\n",
    "corr_positive_win = pointbiserialr(df[\"positive\"], df[\"win\"])[0]\n",
    "corr_negative_loss = pointbiserialr(df[\"negative\"], df[\"loss\"])[0]\n",
    "corr_positive_draw = pointbiserialr(df[\"positive\"], df[\"draw\"])[0]\n",
    "corr_negative_draw = pointbiserialr(df[\"negative\"], df[\"draw\"])[0]\n",
    "\n",
    "print(f\"Correlation between positive sentiment and match win: {corr_positive_win}\")\n",
    "print(f\"Correlation between negative sentiment and match loss: {corr_negative_loss}\")\n",
    "print(f\"Correlation between positive sentiment and match draw: {corr_positive_draw}\")\n",
    "print(f\"Correlation between negative sentiment and match draw: {corr_negative_draw}\")"
   ]
  },
  {
   "attachments": {},
   "cell_type": "markdown",
   "metadata": {},
   "source": [
    "# Spearman's Rho "
   ]
  },
  {
   "cell_type": "code",
   "execution_count": 7,
   "metadata": {},
   "outputs": [
    {
     "name": "stdout",
     "output_type": "stream",
     "text": [
      "Correlation between positive sentiment and match win: 0.40717205074500235\n",
      "Correlation between negative sentiment and match loss: 0.21388753670858077\n",
      "Correlation between positive sentiment and match draw: -0.2769595963858701\n",
      "Correlation between negative sentiment and match draw: 0.2769595963858701\n"
     ]
    }
   ],
   "source": [
    "import numpy as np\n",
    "from scipy.stats import spearmanr\n",
    "\n",
    "# Your data\n",
    "positive_win = np.array([0.67, 0.5, 0.73, 0.72, 0.89, 0.71, 0.75, 0.76, 0.88, 0.74, 0.71, 0.75])\n",
    "negative_win = np.array([0.33, 0.5, 0.27, 0.28, 0.11, 0.29, 0.25, 0.24, 0.12, 0.26, 0.29, 0.25])\n",
    "\n",
    "positive_draw = np.array([0.59, 0.8, 0.66, 0.29])\n",
    "negative_draw = np.array([0.41, 0.2, 0.34, 0.71])\n",
    "\n",
    "positive_loss = np.array([0.7, 0.5, 0.6, 0.69, 0.74, 0.83, 0.62])\n",
    "negative_loss = np.array([0.3, 0.5, 0.4, 0.31, 0.26, 0.17, 0.38])\n",
    "\n",
    "# Combine data into single arrays\n",
    "positive_sentiment = np.concatenate([positive_win, positive_draw, positive_loss])\n",
    "negative_sentiment = np.concatenate([negative_win, negative_draw, negative_loss])\n",
    "match_outcomes = np.array(['win'] * len(positive_win) + ['draw'] * len(positive_draw) + ['loss'] * len(positive_loss))\n",
    "\n",
    "# Create binary outcome variables\n",
    "is_win = (match_outcomes == 'win').astype(int)\n",
    "is_loss = (match_outcomes == 'loss').astype(int)\n",
    "is_draw = (match_outcomes == 'draw').astype(int)\n",
    "\n",
    "# Calculate Spearman's rho correlations\n",
    "corr_positive_win, _ = spearmanr(positive_sentiment, is_win)\n",
    "corr_negative_loss, _ = spearmanr(negative_sentiment, is_loss)\n",
    "corr_positive_draw, _ = spearmanr(positive_sentiment, is_draw)\n",
    "corr_negative_draw, _ = spearmanr(negative_sentiment, is_draw)\n",
    "\n",
    "# Print correlations\n",
    "print(f\"Correlation between positive sentiment and match win: {corr_positive_win}\")\n",
    "print(f\"Correlation between negative sentiment and match loss: {corr_negative_loss}\")\n",
    "print(f\"Correlation between positive sentiment and match draw: {corr_positive_draw}\")\n",
    "print(f\"Correlation between negative sentiment and match draw: {corr_negative_draw}\")\n"
   ]
  },
  {
   "cell_type": "code",
   "execution_count": 9,
   "metadata": {},
   "outputs": [
    {
     "name": "stdout",
     "output_type": "stream",
     "text": [
      "Correlation between positive sentiment and match win: 0.1960571971773029\n",
      "Correlation between negative sentiment and match loss: 0.18031537842584064\n",
      "Correlation between positive sentiment and match draw: -0.019873072027399255\n",
      "Correlation between negative sentiment and match draw: 0.019873072027399255\n"
     ]
    }
   ],
   "source": [
    "import numpy as np\n",
    "from scipy.stats import spearmanr\n",
    "\n",
    "# Your data\n",
    "positive_win = np.array([0.67, 0.5, 0.73, 0.72, 0.89, 0.71, 0.75, 0.76, 0.88, 0.74, 0.71, 0.75, 0.54, 0.46, 0.75, 0.82, 0.44, 0.46, 0.71, 0.75, 0.72, 0.85, 0.56, 0.68, 0.68, 0.44, 0.7, 0.72, 0.77, 0.78, 0.75, 0.53, 0.74, 0.76, 0.75])\n",
    "negative_win = np.array([0.33, 0.5, 0.27, 0.28, 0.11, 0.29, 0.25, 0.24, 0.12, 0.26, 0.29, 0.25, 0.46, 0.54, 0.25, 0.18, 0.56, 0.54, 0.29, 0.25, 0.28, 0.15, 0.44, 0.32, 0.32, 0.56, 0.3, 0.28, 0.23, 0.22, 0.25, 0.47, 0.26, 0.24, 0.25])\n",
    "\n",
    "positive_draw = np.array([0.59, 0.8, 0.66, 0.29, 0.62, 0.76, 0.78, 0.57, 0.72, 0.7, 0.78, 0.73, 0.39, 0.48, 0.65, 0.86])\n",
    "negative_draw = np.array([0.41, 0.2, 0.34, 0.71, 0.38, 0.24, 0.22, 0.43, 0.28, 0.3, 0.22, 0.27, 0.61, 0.52, 0.35, 0.14])\n",
    "\n",
    "positive_loss = np.array([0.7, 0.5, 0.6, 0.69, 0.74, 0.83, 0.62, 0.74, 0.72, 0.64, 0.55, 0.55, 0.65, 0.77, 0.42, 0.43, 0.51, 0.7, 0.66, 0.69, 0.69, 0.85, 0.76, 0.86, 0.73, 0.68, 0.62, 0.67, 0.64, 0.45, 0.66, 0.53, 0.77, 0.54, 0.65])\n",
    "negative_loss = np.array([0.3, 0.5, 0.4, 0.31, 0.26, 0.17, 0.38, 0.26, 0.28, 0.36, 0.45, 0.45, 0.35, 0.23, 0.58, 0.57, 0.49, 0.3, 0.34, 0.31, 0.31, 0.15, 0.24, 0.14, 0.27, 0.32, 0.38, 0.33, 0.36, 0.55, 0.34, 0.47, 0.23, 0.46, 0.35])\n",
    "\n",
    "# Combine data into single arrays\n",
    "positive_sentiment = np.concatenate([positive_win, positive_draw, positive_loss])\n",
    "negative_sentiment = np.concatenate([negative_win, negative_draw, negative_loss])\n",
    "match_outcomes = np.array(['win'] * len(positive_win) + ['draw'] * len(positive_draw) + ['loss'] * len(positive_loss))\n",
    "\n",
    "# Create binary outcome variables\n",
    "is_win = (match_outcomes == 'win').astype(int)\n",
    "is_draw = (match_outcomes == 'draw').astype(int)\n",
    "is_loss = (match_outcomes == 'loss').astype(int)\n",
    "\n",
    "# Calculate Spearman's rho correlations\n",
    "corr_positive_win, _ = spearmanr(positive_sentiment, is_win)\n",
    "corr_negative_loss, _ = spearmanr(negative_sentiment, is_loss)\n",
    "corr_positive_draw, _ = spearmanr(positive_sentiment, is_draw)\n",
    "corr_negative_draw, _ = spearmanr(negative_sentiment, is_draw)\n",
    "\n",
    "# Print correlations\n",
    "print(f\"Correlation between positive sentiment and match win: {corr_positive_win}\")\n",
    "print(f\"Correlation between negative sentiment and match loss: {corr_negative_loss}\")\n",
    "print(f\"Correlation between positive sentiment and match draw: {corr_positive_draw}\")\n",
    "print(f\"Correlation between negative sentiment and match draw: {corr_negative_draw}\")\n"
   ]
  },
  {
   "cell_type": "code",
   "execution_count": 2,
   "metadata": {},
   "outputs": [
    {
     "name": "stdout",
     "output_type": "stream",
     "text": [
      "Model for predicting wins:\n",
      "                            OLS Regression Results                            \n",
      "==============================================================================\n",
      "Dep. Variable:                    win   R-squared:                       0.025\n",
      "Model:                            OLS   Adj. R-squared:                  0.013\n",
      "Method:                 Least Squares   F-statistic:                     2.121\n",
      "Date:                Tue, 09 May 2023   Prob (F-statistic):              0.149\n",
      "Time:                        12:38:34   Log-Likelihood:                -59.831\n",
      "No. Observations:                  86   AIC:                             123.7\n",
      "Df Residuals:                      84   BIC:                             128.6\n",
      "Df Model:                           1                                         \n",
      "Covariance Type:            nonrobust                                         \n",
      "======================================================================================\n",
      "                         coef    std err          t      P>|t|      [0.025      0.975]\n",
      "--------------------------------------------------------------------------------------\n",
      "const                  0.2024      0.059      3.430      0.001       0.085       0.320\n",
      "positive_sentiment     0.4106      0.190      2.165      0.033       0.033       0.788\n",
      "negative_sentiment    -0.2082      0.237     -0.879      0.382      -0.679       0.263\n",
      "==============================================================================\n",
      "Omnibus:                     1283.242   Durbin-Watson:                   0.080\n",
      "Prob(Omnibus):                  0.000   Jarque-Bera (JB):               13.106\n",
      "Skew:                           0.365   Prob(JB):                      0.00143\n",
      "Kurtosis:                       1.232   Cond. No.                     5.40e+15\n",
      "==============================================================================\n",
      "\n",
      "Notes:\n",
      "[1] Standard Errors assume that the covariance matrix of the errors is correctly specified.\n",
      "[2] The smallest eigenvalue is 4.6e-30. This might indicate that there are\n",
      "strong multicollinearity problems or that the design matrix is singular.\n",
      "\n",
      "Model for predicting draws:\n",
      "                            OLS Regression Results                            \n",
      "==============================================================================\n",
      "Dep. Variable:                   draw   R-squared:                       0.005\n",
      "Model:                            OLS   Adj. R-squared:                 -0.007\n",
      "Method:                 Least Squares   F-statistic:                    0.4131\n",
      "Date:                Tue, 09 May 2023   Prob (F-statistic):              0.522\n",
      "Time:                        12:38:34   Log-Likelihood:                -40.651\n",
      "No. Observations:                  86   AIC:                             85.30\n",
      "Df Residuals:                      84   BIC:                             90.21\n",
      "Df Model:                           1                                         \n",
      "Covariance Type:            nonrobust                                         \n",
      "======================================================================================\n",
      "                         coef    std err          t      P>|t|      [0.025      0.975]\n",
      "--------------------------------------------------------------------------------------\n",
      "const                  0.1484      0.047      3.142      0.002       0.054       0.242\n",
      "positive_sentiment    -0.0351      0.152     -0.231      0.818      -0.337       0.267\n",
      "negative_sentiment     0.1835      0.189      0.968      0.336      -0.193       0.560\n",
      "==============================================================================\n",
      "Omnibus:                       26.334   Durbin-Watson:                   0.162\n",
      "Prob(Omnibus):                  0.000   Jarque-Bera (JB):               38.237\n",
      "Skew:                           1.605   Prob(JB):                     4.98e-09\n",
      "Kurtosis:                       3.608   Cond. No.                     5.40e+15\n",
      "==============================================================================\n",
      "\n",
      "Notes:\n",
      "[1] Standard Errors assume that the covariance matrix of the errors is correctly specified.\n",
      "[2] The smallest eigenvalue is 4.6e-30. This might indicate that there are\n",
      "strong multicollinearity problems or that the design matrix is singular.\n"
     ]
    }
   ],
   "source": [
    "import numpy as np\n",
    "import pandas as pd\n",
    "import statsmodels.api as sm\n",
    "\n",
    "# Your data\n",
    "positive_win = np.array([0.67, 0.5, 0.73, 0.72, 0.89, 0.71, 0.75, 0.76, 0.88, 0.74, 0.71, 0.75, 0.54, 0.46, 0.75, 0.82, 0.44, 0.46, 0.71, 0.75, 0.72, 0.85, 0.56, 0.68, 0.68, 0.44, 0.7, 0.72, 0.77, 0.78, 0.75, 0.53, 0.74, 0.76, 0.75])\n",
    "negative_win = np.array([0.33, 0.5, 0.27, 0.28, 0.11, 0.29, 0.25, 0.24, 0.12, 0.26, 0.29, 0.25, 0.46, 0.54, 0.25, 0.18, 0.56, 0.54, 0.29, 0.25, 0.28, 0.15, 0.44, 0.32, 0.32, 0.56, 0.3, 0.28, 0.23, 0.22, 0.25, 0.47, 0.26, 0.24, 0.25])\n",
    "\n",
    "positive_draw = np.array([0.59, 0.8, 0.66, 0.29, 0.62, 0.76, 0.78, 0.57, 0.72, 0.7, 0.78, 0.73, 0.39, 0.48, 0.65, 0.86])\n",
    "negative_draw = np.array([0.41, 0.2, 0.34, 0.71, 0.38, 0.24, 0.22, 0.43, 0.28, 0.3, 0.22, 0.27, 0.61, 0.52, 0.35, 0.14])\n",
    "\n",
    "positive_loss = np.array([0.7, 0.5, 0.6, 0.69, 0.74, 0.83, 0.62, 0.74, 0.72, 0.64, 0.55, 0.55, 0.65, 0.77, 0.42, 0.43, 0.51, 0.7, 0.66, 0.69, 0.69, 0.85, 0.76, 0.86, 0.73, 0.68, 0.62, 0.67, 0.64, 0.45, 0.66, 0.53, 0.77, 0.54, 0.65])\n",
    "negative_loss = np.array([0.3, 0.5, 0.4, 0.31, 0.26, 0.17, 0.38, 0.26, 0.28, 0.36, 0.45, 0.45, 0.35, 0.23, 0.58, 0.57, 0.49, 0.3, 0.34, 0.31, 0.31, 0.15, 0.24, 0.14, 0.27, 0.32, 0.38, 0.33, 0.36, 0.55, 0.34, 0.47, 0.23, 0.46, 0.35])\n",
    "\n",
    "\n",
    "# Combine data into single arrays\n",
    "positive_sentiment = np.concatenate([positive_win, positive_draw, positive_loss])\n",
    "negative_sentiment = np.concatenate([negative_win, negative_draw, negative_loss])\n",
    "match_outcomes = np.array(['win'] * len(positive_win) + ['draw'] * len(positive_draw) + ['loss'] * len(positive_loss))\n",
    "\n",
    "# Create a DataFrame with the data\n",
    "data = pd.DataFrame({\n",
    "    'positive_sentiment': positive_sentiment,\n",
    "    'negative_sentiment': negative_sentiment,\n",
    "    'match_outcome': match_outcomes\n",
    "})\n",
    "\n",
    "# Create dummy variables for the match outcomes\n",
    "match_outcome_dummies = pd.get_dummies(data['match_outcome'])\n",
    "data = pd.concat([data, match_outcome_dummies], axis=1)\n",
    "\n",
    "# Define the independent (X) and dependent (y) variables\n",
    "X = data[['positive_sentiment', 'negative_sentiment']]\n",
    "y_win = data['win']\n",
    "y_draw = data['draw']\n",
    "\n",
    "# Add a constant to the independent variables (X) for the intercept term\n",
    "X = sm.add_constant(X)\n",
    "\n",
    "# Fit the multiple regression models\n",
    "win_model = sm.OLS(y_win, X).fit()\n",
    "draw_model = sm.OLS(y_draw, X).fit()\n",
    "\n",
    "# Print the results\n",
    "print(\"Model for predicting wins:\")\n",
    "print(win_model.summary())\n",
    "print(\"\\nModel for predicting draws:\")\n",
    "print(draw_model.summary())"
   ]
  },
  {
   "cell_type": "code",
   "execution_count": 3,
   "metadata": {},
   "outputs": [
    {
     "name": "stdout",
     "output_type": "stream",
     "text": [
      "                            OLS Regression Results                            \n",
      "==============================================================================\n",
      "Dep. Variable:                   loss   R-squared:                       0.010\n",
      "Model:                            OLS   Adj. R-squared:                 -0.001\n",
      "Method:                 Least Squares   F-statistic:                    0.8744\n",
      "Date:                Tue, 09 May 2023   Prob (F-statistic):              0.352\n",
      "Time:                        12:39:26   Log-Likelihood:                -60.458\n",
      "No. Observations:                  86   AIC:                             124.9\n",
      "Df Residuals:                      84   BIC:                             129.8\n",
      "Df Model:                           1                                         \n",
      "Covariance Type:            nonrobust                                         \n",
      "======================================================================================\n",
      "                         coef    std err          t      P>|t|      [0.025      0.975]\n",
      "--------------------------------------------------------------------------------------\n",
      "const                  0.3159      0.059      5.313      0.000       0.198       0.434\n",
      "positive_sentiment    -0.0422      0.191     -0.221      0.826      -0.422       0.338\n",
      "negative_sentiment     0.3581      0.239      1.501      0.137      -0.116       0.832\n",
      "==============================================================================\n",
      "Omnibus:                     1074.906   Durbin-Watson:                   0.059\n",
      "Prob(Omnibus):                  0.000   Jarque-Bera (JB):               13.806\n",
      "Skew:                           0.367   Prob(JB):                      0.00100\n",
      "Kurtosis:                       1.180   Cond. No.                     5.40e+15\n",
      "==============================================================================\n",
      "\n",
      "Notes:\n",
      "[1] Standard Errors assume that the covariance matrix of the errors is correctly specified.\n",
      "[2] The smallest eigenvalue is 4.6e-30. This might indicate that there are\n",
      "strong multicollinearity problems or that the design matrix is singular.\n"
     ]
    }
   ],
   "source": [
    "import pandas as pd\n",
    "import statsmodels.api as sm\n",
    "\n",
    "# Create binary outcome variables\n",
    "is_win = (match_outcomes == 'win').astype(int)\n",
    "is_draw = (match_outcomes == 'draw').astype(int)\n",
    "is_loss = (match_outcomes == 'loss').astype(int)\n",
    "\n",
    "# Create a DataFrame\n",
    "data = pd.DataFrame({'positive_sentiment': positive_sentiment,\n",
    "                     'negative_sentiment': negative_sentiment,\n",
    "                     'win': is_win,\n",
    "                     'draw': is_draw,\n",
    "                     'loss': is_loss})\n",
    "\n",
    "# Perform the regression for match loss\n",
    "X_loss = sm.add_constant(data[['positive_sentiment', 'negative_sentiment']])\n",
    "y_loss = data['loss']\n",
    "\n",
    "model_loss = sm.OLS(y_loss, X_loss).fit()\n",
    "print(model_loss.summary())\n"
   ]
  },
  {
   "cell_type": "code",
   "execution_count": 4,
   "metadata": {},
   "outputs": [
    {
     "name": "stdout",
     "output_type": "stream",
     "text": [
      "                            OLS Regression Results                            \n",
      "==============================================================================\n",
      "Dep. Variable:                      y   R-squared:                       0.137\n",
      "Model:                            OLS   Adj. R-squared:                  0.096\n",
      "Method:                 Least Squares   F-statistic:                     3.346\n",
      "Date:                Tue, 09 May 2023   Prob (F-statistic):             0.0816\n",
      "Time:                        12:49:33   Log-Likelihood:                 16.108\n",
      "No. Observations:                  23   AIC:                            -28.22\n",
      "Df Residuals:                      21   BIC:                            -25.94\n",
      "Df Model:                           1                                         \n",
      "Covariance Type:            nonrobust                                         \n",
      "==============================================================================\n",
      "                 coef    std err          t      P>|t|      [0.025      0.975]\n",
      "------------------------------------------------------------------------------\n",
      "const          0.6382      0.038     16.837      0.000       0.559       0.717\n",
      "x1             0.0960      0.052      1.829      0.082      -0.013       0.205\n",
      "==============================================================================\n",
      "Omnibus:                        7.846   Durbin-Watson:                   2.010\n",
      "Prob(Omnibus):                  0.020   Jarque-Bera (JB):                5.591\n",
      "Skew:                          -0.966   Prob(JB):                       0.0611\n",
      "Kurtosis:                       4.450   Cond. No.                         2.67\n",
      "==============================================================================\n",
      "\n",
      "Notes:\n",
      "[1] Standard Errors assume that the covariance matrix of the errors is correctly specified.\n"
     ]
    }
   ],
   "source": [
    "import statsmodels.api as sm\n",
    "import numpy as np\n",
    "\n",
    "# Match Win (1 for win, 0 otherwise)\n",
    "match_win = np.array([1, 1, 1, 1, 1, 1, 1, 1, 1, 1, 1, 1, 0, 0, 0, 0, 0, 0, 0, 0, 0, 0, 0])\n",
    "\n",
    "# Positive Sentiment Analysis Percentage\n",
    "positive_sentiment = np.array([0.67, 0.5, 0.73, 0.72, 0.89, 0.71, 0.75, 0.76, 0.88, 0.74, 0.71, 0.75, 0.59, 0.8, 0.66, 0.29, 0.7, 0.5, 0.6, 0.69, 0.74, 0.83,\t0.62])\n",
    "\n",
    "# Add a constant to the independent variable (match outcome)\n",
    "X = sm.add_constant(match_win)\n",
    "\n",
    "# Estimate the linear regression model\n",
    "model = sm.OLS(positive_sentiment, X).fit()\n",
    "\n",
    "# Print the model summary\n",
    "print(model.summary())\n"
   ]
  },
  {
   "cell_type": "code",
   "execution_count": 24,
   "metadata": {},
   "outputs": [
    {
     "name": "stdout",
     "output_type": "stream",
     "text": [
      "Intercept odds: [2.93744819]\n",
      "Win odds: [[6.00016893]]\n",
      "Intercept probability: [0.7460284]\n",
      "Win probability: [[0.8571463]]\n"
     ]
    }
   ],
   "source": [
    "import numpy as np\n",
    "from sklearn.linear_model import LogisticRegression\n",
    "\n",
    "# Match Win (1 for win, 0 otherwise)\n",
    "match_win = np.array([1, 1, 1, 1, 1, 1, 1, 1, 1, 1, 1, 1, 0, 0, 0, 0, 0, 0, 0, 0, 0])\n",
    "\n",
    "# Positive Sentiment Analysis Percentage\n",
    "positive_sentiment = np.array([0.67, 0.5, 0.73, 0.72, 0.89, 0.71, 0.75, 0.76, 0.88, 0.74, 0.71, 0.75, 0.59, 0.8, 0.66, 0.29, 0.7, 0.5, 0.6, 0.69, 0.74])\n",
    "\n",
    "# Convert positive sentiment analysis percentages into binary values\n",
    "# You can choose a threshold, for example, 0.6 to differentiate between high (1) and low (0) sentiment\n",
    "binary_sentiment = np.where(positive_sentiment >= 0.6, 1, 0)\n",
    "\n",
    "# Create and fit the logistic regression model\n",
    "logistic_model = LogisticRegression(solver='lbfgs')\n",
    "logistic_model.fit(match_win.reshape(-1, 1), binary_sentiment)\n",
    "\n",
    "# Calculate odds and probabilities\n",
    "intercept_odds = np.exp(logistic_model.intercept_)\n",
    "win_odds = np.exp(logistic_model.intercept_ + logistic_model.coef_)\n",
    "\n",
    "intercept_prob = intercept_odds / (1 + intercept_odds)\n",
    "win_prob = win_odds / (1 + win_odds)\n",
    "\n",
    "print(\"Intercept odds:\", intercept_odds)\n",
    "print(\"Win odds:\", win_odds)\n",
    "print(\"Intercept probability:\", intercept_prob)\n",
    "print(\"Win probability:\", win_prob)\n",
    "\n"
   ]
  },
  {
   "cell_type": "code",
   "execution_count": 12,
   "metadata": {},
   "outputs": [
    {
     "name": "stdout",
     "output_type": "stream",
     "text": [
      "Intercept odds: [0.0968153]\n",
      "Loss odds: [[0.12255768]]\n",
      "Intercept probability: [0.08826947]\n",
      "Loss probability: [[0.10917717]]\n"
     ]
    }
   ],
   "source": [
    "import numpy as np\n",
    "from sklearn.linear_model import LogisticRegression\n",
    "\n",
    "# Match Loss (1 for loss, 0 otherwise)\n",
    "match_loss = np.array([1, 1, 1, 1, 1, 1, 1, 0, 0, 0, 0, 0, 0, 0, 0, 0, 0, 0, 0, 0, 0])\n",
    "\n",
    "# Negative Sentiment Analysis Percentage\n",
    "negative_sentiment = np.array([0.3, 0.5, 0.4, 0.31, 0.26, 0.17, 0.38, 0.33, 0.5, 0.27, 0.28, 0.11, 0.29, 0.25, 0.24, 0.12, 0.26, 0.29, 0.25, 0.41, 0.2])\n",
    "\n",
    "# Convert negative sentiment analysis percentages into binary values\n",
    "# You can choose a threshold, for example, 0.3 to differentiate between high (1) and low (0) sentiment\n",
    "binary_sentiment = np.where(negative_sentiment >= 0.5, 1, 0)\n",
    "\n",
    "# Create and fit the logistic regression model\n",
    "logistic_model = LogisticRegression(solver='lbfgs')\n",
    "logistic_model.fit(match_loss.reshape(-1, 1), binary_sentiment)\n",
    "\n",
    "# Calculate odds and probabilities\n",
    "intercept_odds = np.exp(logistic_model.intercept_)\n",
    "loss_odds = np.exp(logistic_model.intercept_ + logistic_model.coef_)\n",
    "\n",
    "intercept_prob = intercept_odds / (1 + intercept_odds)\n",
    "loss_prob = loss_odds / (1 + loss_odds)\n",
    "\n",
    "print(\"Intercept odds:\", intercept_odds)\n",
    "print(\"Loss odds:\", loss_odds)\n",
    "print(\"Intercept probability:\", intercept_prob)\n",
    "print(\"Loss probability:\", loss_prob)\n"
   ]
  },
  {
   "cell_type": "code",
   "execution_count": 13,
   "metadata": {},
   "outputs": [
    {
     "name": "stdout",
     "output_type": "stream",
     "text": [
      "Intercept odds: [0.44250151]\n",
      "High PPG odds: [[1.61484583]]\n",
      "Intercept probability: [0.30675983]\n",
      "High PPG probability: [[0.61756828]]\n"
     ]
    }
   ],
   "source": [
    "import numpy as np\n",
    "from sklearn.linear_model import LogisticRegression\n",
    "\n",
    "# High PPG (1 for high PPG, 0 otherwise)\n",
    "high_ppg = np.array([1, 1, 1, 1, 1, 1, 0, 0, 0, 0, 0, 0, 0, 0, 0, 0, 0, 0, 0, 0])\n",
    "\n",
    "# Positive Sentiment Analysis Percentage\n",
    "positive_sentiment = np.array([0.81, 0.64, 0.49, 0.71, 0.6, 0.66, 0.46, 0.51, 0.55, 0.68, 0.53, 0.59, 0.68, 0.55, 0.62, 0.46, 0.5, 0.49, 0.47, 0.54])\n",
    "\n",
    "# Convert positive sentiment analysis percentages into binary values\n",
    "# You can choose a threshold, for example, 0.6 to differentiate between high (1) and low (0) sentiment\n",
    "binary_sentiment = np.where(positive_sentiment >= 0.6, 1, 0)\n",
    "\n",
    "# Create and fit the logistic regression model\n",
    "logistic_model = LogisticRegression(solver='lbfgs')\n",
    "logistic_model.fit(high_ppg.reshape(-1, 1), binary_sentiment)\n",
    "\n",
    "# Calculate odds and probabilities\n",
    "intercept_odds = np.exp(logistic_model.intercept_)\n",
    "high_ppg_odds = np.exp(logistic_model.intercept_ + logistic_model.coef_)\n",
    "\n",
    "intercept_prob = intercept_odds / (1 + intercept_odds)\n",
    "high_ppg_prob = high_ppg_odds / (1 + high_ppg_odds)\n",
    "\n",
    "print(\"Intercept odds:\", intercept_odds)\n",
    "print(\"High PPG odds:\", high_ppg_odds)\n",
    "print(\"Intercept probability:\", intercept_prob)\n",
    "print(\"High PPG probability:\", high_ppg_prob)\n"
   ]
  },
  {
   "cell_type": "code",
   "execution_count": 14,
   "metadata": {},
   "outputs": [
    {
     "data": {
      "image/png": "[encoded data removed]",
      "text/plain": [
       "<Figure size 640x480 with 1 Axes>"
      ]
     },
     "metadata": {},
     "output_type": "display_data"
    }
   ],
   "source": [
    "import numpy as np\n",
    "import matplotlib.pyplot as plt\n",
    "\n",
    "# Average positive sentiment percentages for each PPG category\n",
    "high_ppg_avg_positive = np.mean([0.81, 0.64, 0.49, 0.71, 0.6, 0.66])\n",
    "medium_ppg_avg_positive = np.mean([0.46, 0.51, 0.55, 0.68, 0.53, 0.59, 0.68, 0.55, 0.62])\n",
    "low_ppg_avg_positive = np.mean([0.46, 0.5, 0.49, 0.47, 0.54])\n",
    "\n",
    "# PPG categories and their corresponding average positive sentiment percentages\n",
    "ppg_categories = ['High PPG', 'Medium PPG', 'Low PPG']\n",
    "avg_positive_sentiments = [high_ppg_avg_positive, medium_ppg_avg_positive, low_ppg_avg_positive]\n",
    "\n",
    "# Create a bar chart\n",
    "plt.bar(ppg_categories, avg_positive_sentiments)\n",
    "\n",
    "# Customize the chart\n",
    "plt.xlabel('PPG Categories')\n",
    "plt.ylabel('Average Positive Sentiment Percentage')\n",
    "plt.title('Positive Sentiment Percentage by PPG Category')\n",
    "\n",
    "# Display the chart\n",
    "plt.show()\n"
   ]
  },
  {
   "cell_type": "code",
   "execution_count": 18,
   "metadata": {},
   "outputs": [
    {
     "name": "stdout",
     "output_type": "stream",
     "text": [
      "Win probability given a positive sentiment of 0.7: 0.5230277569296156\n"
     ]
    }
   ],
   "source": [
    "import numpy as np\n",
    "from sklearn.linear_model import LogisticRegression\n",
    "\n",
    "# Match outcome (1 for win, 0 for draw, -1 for loss)\n",
    "match_outcome = np.array([1, 1, 1, 1, 1, 1, 1, 1, 1, 1, 1, 1, 0, 0, 0, 0, -1, -1, -1, -1, -1, -1, -1])\n",
    "\n",
    "# Positive Sentiment Analysis Percentage\n",
    "positive_sentiment = np.array([0.67, 0.5, 0.73, 0.72, 0.89, 0.71, 0.75, 0.76, 0.88, 0.74, 0.71, 0.75, 0.59, 0.8, 0.66, 0.29, 0.7, 0.5, 0.6, 0.69, 0.74, 0.83, 0.62])\n",
    "\n",
    "# Create and fit the logistic regression model\n",
    "logistic_model = LogisticRegression(solver='lbfgs', multi_class='ovr')\n",
    "logistic_model.fit(positive_sentiment.reshape(-1, 1), match_outcome)\n",
    "\n",
    "# Calculate the probability of a win given a positive sentiment (e.g., 0.7)\n",
    "positive_sentiment_example = 0.7\n",
    "win_probability_given_positive_sentiment = logistic_model.predict_proba([[positive_sentiment_example]])[0][2]\n",
    "\n",
    "print(\"Win probability given a positive sentiment of {}:\".format(positive_sentiment_example), win_probability_given_positive_sentiment)\n"
   ]
  },
  {
   "attachments": {},
   "cell_type": "markdown",
   "metadata": {},
   "source": [
    "Logistic Regression - Win probability with sentiment > 60% of positive tweets"
   ]
  },
  {
   "attachments": {},
   "cell_type": "markdown",
   "metadata": {},
   "source": [
    "End of Season"
   ]
  },
  {
   "cell_type": "code",
   "execution_count": 45,
   "metadata": {},
   "outputs": [
    {
     "name": "stdout",
     "output_type": "stream",
     "text": [
      "Intercept odds: [0.60764941]\n",
      "Win odds: [[0.72858565]]\n",
      "Intercept probability: [0.37797383]\n",
      "Win probability: [[0.42149236]]\n"
     ]
    }
   ],
   "source": [
    "import numpy as np\n",
    "from sklearn.linear_model import LogisticRegression\n",
    "\n",
    "# Match Win (1 for win, 0 otherwise)\n",
    "match_win = np.array([1,1,1,1,1,1,1,1,1,1,1,1,1,1,1,1,1,1,1,1,1,1,1,1,1,1,1,1,1,1,1,1,1,1,1,0,0,0,0,0,0,0,0,0,0,0,0,0,0,0,0,0,0,0,0,0,0,0,0,0,0,0,0,0,0,0,0,0,0,0,0,0,0,0,0,0,0,0,0,0,0,0,0,0,0])\n",
    "\n",
    "# Positive Sentiment Analysis Percentage\n",
    "positive_sentiment = np.array([0.67,0.5,0.73,0.72,0.89,0.71,0.75,0.76,0.88,0.74,0.71,0.75,0.54,0.46,0.75,0.82,0.44,0.46,0.71,0.75,0.72,0.85,0.56,0.68,0.68,0.44,0.7,0.72,0.77,0.78,0.75,0.53,0.74,0.76,0.75\n",
    "                               ,0.59,0.8,0.66,0.29,0.62,0.76,0.78,0.57,0.72,0.7,0.78,0.73,0.39,0.48,0.65,0.86,0.7,0.5,0.6,0.69,0.74,0.83,0.62,0.74,0.72,0.64,0.55,0.55,0.65,0.77,0.42,0.43,0.51,0.7,0.66,0.69,0.69,0.85,0.76,0.86,0.73,0.68,0.62,0.67,0.64,0.45,0.66,0.53,0.77,0.54\n",
    "])\n",
    "\n",
    "# Convert positive sentiment analysis percentages into binary values\n",
    "# Change the threshold to 0.55 to differentiate between high (1) and low (0) sentiment\n",
    "binary_sentiment = np.where(positive_sentiment > 0.55, 1, 0)\n",
    "\n",
    "# Create and fit the logistic regression model\n",
    "logistic_model = LogisticRegression(solver='lbfgs')\n",
    "logistic_model.fit(binary_sentiment.reshape(-1, 1), match_win)\n",
    "\n",
    "# Calculate odds and probabilities\n",
    "intercept_odds = np.exp(logistic_model.intercept_)\n",
    "win_odds = np.exp(logistic_model.intercept_ + logistic_model.coef_)\n",
    "\n",
    "intercept_prob = intercept_odds / (1 + intercept_odds)\n",
    "win_prob = win_odds / (1 + win_odds)\n",
    "\n",
    "print(\"Intercept odds:\", intercept_odds)\n",
    "print(\"Win odds:\", win_odds)\n",
    "print(\"Intercept probability:\", intercept_prob)\n",
    "print(\"Win probability:\", win_prob)\n"
   ]
  },
  {
   "cell_type": "code",
   "execution_count": 46,
   "metadata": {},
   "outputs": [
    {
     "name": "stdout",
     "output_type": "stream",
     "text": [
      "Intercept odds: [1.28883849]\n",
      "Loss odds: [[0.14925389]]\n",
      "Intercept probability: [0.56309718]\n",
      "Loss probability: [[0.12987025]]\n"
     ]
    }
   ],
   "source": [
    "import numpy as np\n",
    "from sklearn.linear_model import LogisticRegression\n",
    "\n",
    "# Match Win (1 for loss, 0 otherwise)\n",
    "match_loss = np.array([0,\t0,\t0,\t0,\t0,\t0,\t0,\t0,\t0,\t0,\t0,\t0,\t0,\t0,\t0,\t0,\t0,\t0,\t0,\t0,\t0,\t0,\t0,\t0,\t0,\t0,\t0,\t0,\t0,\t0,\t0,\t0,\t0,\t0,\t0,\t0,\t0,\t0,\t0,\t0,\t0,\t0,\t0,\t0,\t0,\t0,\t0,\t0,\t0,\t0,\t0,1,\t1,\t1,\t1,\t1,\t1,\t1,\t1,\t1,\t1,\t1,\t1,\t1,\t1,\t1,\t1,\t1,\t1,\t1,\t1,\t1,\t1,\t1,\t1,\t1,\t1,\t1,\t1,\t1,\t1,\t1,\t1,\t1,\t1])\n",
    "\n",
    "# Positive Sentiment Analysis Percentage\n",
    "negative_sentiment = np.array([0.67,\t0.5,\t0.73,\t0.72,\t0.89,\t0.71,\t0.75,\t0.76,\t0.88,\t0.74,\t0.71,\t0.75,\t0.54,\t0.46,\t0.75,\t0.82,\t0.44,\t0.46,\t0.71,\t0.75,\t0.72,\t0.85,\t0.56,\t0.68,\t0.68,\t0.44,\t0.7,\t0.72,\t0.77,\t0.78,\t0.75,\t0.53,\t0.74,\t0.76,\t0.75, 0.41,\t0.2,\t0.34,\t0.71,\t0.38,\t0.24,\t0.22,\t0.43,\t0.28,\t0.3,\t0.22,\t0.27,\t0.61,\t0.52,\t0.35,\t0.14,\n",
    "0.3,\t0.5,\t0.4,\t0.31,\t0.26,\t0.17,\t0.38,\t0.26,\t0.28,\t0.36,\t0.45,\t0.45,\t0.35,\t0.23,\t0.58,\t0.57,\t0.49,\t0.3,\t0.34,\t0.31,\t0.31,\t0.15,\t0.24,\t0.14,\t0.27,\t0.32,\t0.38,\t0.33,\t0.36,\t0.55,\t0.34,\t0.47,\t0.23,\t0.46])\n",
    "\n",
    "# Convert positive sentiment analysis percentages into binary values\n",
    "# Change the threshold to 0.55 to differentiate between high (1) and low (0) sentiment\n",
    "binary_sentiment = np.where(negative_sentiment > 0.55, 1, 0)\n",
    "\n",
    "# Create and fit the logistic regression model\n",
    "logistic_model = LogisticRegression(solver='lbfgs')\n",
    "logistic_model.fit(binary_sentiment.reshape(-1, 1), match_loss)\n",
    "\n",
    "# Calculate odds and probabilities\n",
    "intercept_odds = np.exp(logistic_model.intercept_)\n",
    "loss_odds = np.exp(logistic_model.intercept_ + logistic_model.coef_)\n",
    "\n",
    "intercept_prob = intercept_odds / (1 + intercept_odds)\n",
    "loss_prob = loss_odds / (1 + loss_odds)\n",
    "\n",
    "print(\"Intercept odds:\", intercept_odds)\n",
    "print(\"Loss odds:\", loss_odds)\n",
    "print(\"Intercept probability:\", intercept_prob)\n",
    "print(\"Loss probability:\", loss_prob)\n"
   ]
  },
  {
   "cell_type": "code",
   "execution_count": 47,
   "metadata": {},
   "outputs": [
    {
     "name": "stdout",
     "output_type": "stream",
     "text": [
      "Probabilities for Low PPG, Medium PPG, and High PPG when positive sentiment is 0.6: [[0.25277252 0.45062645 0.29660103]]\n"
     ]
    }
   ],
   "source": [
    "import numpy as np\n",
    "from sklearn.linear_model import LogisticRegression\n",
    "\n",
    "# High PPG (1), Medium PPG (0), Low PPG (-1)\n",
    "PPG = np.array([1, 1, 1, 1, 1, 1, 0, 0, 0, 0, 0, 0, 0, 0, 0, -1, -1, -1, -1, -1])\n",
    "\n",
    "# Positive Sentiment Analysis Percentage\n",
    "positive_sentiment = np.array([0.81, 0.64, 0.49, 0.71, 0.6, 0.66, 0.46, 0.51, 0.55, 0.68, 0.53, 0.59, 0.68, 0.55, 0.62, 0.46, 0.5, 0.49, 0.47, 0.54])\n",
    "\n",
    "# Create and fit the logistic regression model\n",
    "logistic_model = LogisticRegression(solver='lbfgs', multi_class='multinomial')\n",
    "logistic_model.fit(positive_sentiment.reshape(-1, 1), PPG)\n",
    "\n",
    "# Calculate probabilities\n",
    "probs = logistic_model.predict_proba([[0.55]])\n",
    "\n",
    "print(\"Probabilities for Low PPG, Medium PPG, and High PPG when positive sentiment is 0.6:\", probs)\n"
   ]
  },
  {
   "attachments": {},
   "cell_type": "markdown",
   "metadata": {},
   "source": [
    "Middle of Season"
   ]
  },
  {
   "cell_type": "code",
   "execution_count": 50,
   "metadata": {},
   "outputs": [
    {
     "name": "stdout",
     "output_type": "stream",
     "text": [
      "Probabilities for Low PPG, Medium PPG, and High PPG when positive sentiment is 0.6: [[0.2459022  0.50124686 0.25285093]]\n"
     ]
    }
   ],
   "source": [
    "import numpy as np\n",
    "from sklearn.linear_model import LogisticRegression\n",
    "\n",
    "# High PPG (1), Medium PPG (0), Low PPG (-1)\n",
    "PPG = np.array([1, 1, 1, 1, 1, 0, 0, 0, 0, 0, 0, 0, 0, 0, 0, -1, -1, -1, -1, -1])\n",
    "\n",
    "# Positive Sentiment Analysis Percentage\n",
    "positive_sentiment = np.array([0.51, 0.59, 0.57, 0.54, 0.52, 0.6, 0.58, 0.54, 0.46, 0.6, 0.44, 0.45, 0.63, 0.23, 0.51, 0.48, 0.45, 0.49, 0.37, 0.39])\n",
    "\n",
    "# Create and fit the logistic regression model\n",
    "logistic_model = LogisticRegression(solver='lbfgs', multi_class='multinomial')\n",
    "logistic_model.fit(positive_sentiment.reshape(-1, 1), PPG)\n",
    "\n",
    "# Calculate probabilities\n",
    "probs = logistic_model.predict_proba([[0.55]])\n",
    "\n",
    "print(\"Probabilities for Low PPG, Medium PPG, and High PPG when positive sentiment is 0.6:\", probs)\n"
   ]
  },
  {
   "cell_type": "code",
   "execution_count": 48,
   "metadata": {},
   "outputs": [
    {
     "name": "stdout",
     "output_type": "stream",
     "text": [
      "Intercept odds: [0.5239536]\n",
      "Win odds: [[0.89409346]]\n",
      "Intercept probability: [0.34381204]\n",
      "Win probability: [[0.47204295]]\n"
     ]
    }
   ],
   "source": [
    "import numpy as np\n",
    "from sklearn.linear_model import LogisticRegression\n",
    "\n",
    "# Match Win (1 for win, 0 otherwise)\n",
    "match_win = np.array([1,\t1,\t1,\t1,\t1,\t1,\t1,\t1,\t1,\t1,\t1,\t1,\t1,\t1,\t1,\t1,\t1,\t1,\t1,\t1,\t1,\t1,\t1,\t1,\t1,\t1,\t1,\t1,\t1,\t1,\t1,\t1,\t1,\t1,\t1,0,\t0,\t0,\t0,\t0,\t0,\t0,\t0,\t0,\t0,\t0,\t0,\t0,\t0,\t0,\t0,\t0,\t0,\t0,0,\t0,\t0,\t0,\t0,\t0,\t0,\t0,\t0,\t0,\t0,\t0,\t0,\t0,\t0,\t0,\t0,\t0,\t0,\t0,\t0,\t0,\t0,\t0,\t0,\t0,\t0,\t0,\t0,\t0,\t0,\t0,\t0,\t0])\n",
    "\n",
    "# Positive Sentiment Analysis Percentage\n",
    "positive_sentiment = np.array([0.53,\t0.32,\t0.51,\t0.69,\t0.8,\t0.66,\t0.59,\t0.64,\t0.5,\t0.62,\t0.69,\t0.67,\t0.52,\t0.38,\t0.44,\t0.42,\t0.63,\t0.63,\t0.72,\t0.56,\t0.5,\t0.55,\t0.58,\t0.51,\t0.58,\t0.69,\t0.33,\t0.62,\t0.57,\t0.55,\t0.63,\t0.51,\t0.23,\t0.18,\t0.13,0.49,\t0.53,\t0.65,\t0.48,\t0.54,\t0.58,\t0.37,\t0.3,\t0.62,\t0.67,\t0.67,\t0.62,\t0.76,\t0.36,\t0.65,\t0.51,\t0.62,\t0.19,\t0.11,\n",
    "0.6,\t0.76,\t0.6,\t0.55,\t0.51,\t0.54,\t0.5,\t0.42,\t0.5,\t0.6,\t0.63,\t0.53,\t0.49,\t0.5,\t0.49,\t0.62,\t0.59,\t0.59,\t0.46,\t0.59,\t0.51,\t0.54,\t0.5,\t0.43,\t0.53,\t0.31,\t0.66,\t0.55,\t0.47,\t0.54,\t0.16,\t0.17,\t0.31,\t0.31])\n",
    "\n",
    "# Convert positive sentiment analysis percentages into binary values\n",
    "# Change the threshold to 0.55 to differentiate between high (1) and low (0) sentiment\n",
    "binary_sentiment = np.where(positive_sentiment > 0.55, 1, 0)\n",
    "\n",
    "# Create and fit the logistic regression model\n",
    "logistic_model = LogisticRegression(solver='lbfgs')\n",
    "logistic_model.fit(binary_sentiment.reshape(-1, 1), match_win)\n",
    "\n",
    "# Calculate odds and probabilities\n",
    "intercept_odds = np.exp(logistic_model.intercept_)\n",
    "win_odds = np.exp(logistic_model.intercept_ + logistic_model.coef_)\n",
    "\n",
    "intercept_prob = intercept_odds / (1 + intercept_odds)\n",
    "win_prob = win_odds / (1 + win_odds)\n",
    "\n",
    "print(\"Intercept odds:\", intercept_odds)\n",
    "print(\"Win odds:\", win_odds)\n",
    "print(\"Intercept probability:\", intercept_prob)\n",
    "print(\"Win probability:\", win_prob)\n"
   ]
  },
  {
   "cell_type": "code",
   "execution_count": 51,
   "metadata": {},
   "outputs": [
    {
     "name": "stdout",
     "output_type": "stream",
     "text": [
      "Intercept odds: [0.66520113]\n",
      "Loss odds: [[0.52566027]]\n",
      "Intercept probability: [0.39947194]\n",
      "Loss probability: [[0.34454608]]\n"
     ]
    }
   ],
   "source": [
    "import numpy as np\n",
    "from sklearn.linear_model import LogisticRegression\n",
    "\n",
    "# Match Win (1 for loss, 0 otherwise)\n",
    "match_loss = np.array([1,\t1,\t1,\t1,\t1,\t1,\t1,\t1,\t1,\t1,\t1,\t1,\t1,\t1,\t1,\t1,\t1,\t1,\t1,\t1,\t1,\t1,\t1,\t1,\t1,\t1,\t1,\t1,\t1,\t1,\t1,\t1,\t1,\t1,0,\t0,\t0,\t0,\t0,\t0,\t0,\t0,\t0,\t0,\t0,\t0,\t0,\t0,\t0,\t0,\t0,\t0,\t0,0,\t0,\t0,\t0,\t0,\t0,\t0,\t0,\t0,\t0,\t0,\t0,\t0,\t0,\t0,\t0,\t0,\t0,\t0,\t0,\t0,\t0,\t0,\t0,\t0,\t0,\t0,\t0,\t0,\t0,\t0,\t0,\t0,\t0,\t0])\n",
    "# Positive Sentiment Analysis Percentage\n",
    "negative_sentiment = np.array([0.4,\t0.24,\t0.4,\t0.45,\t0.49,\t0.46,\t0.5,\t0.58,\t0.5,\t0.4,\t0.37,\t0.47,\t0.51,\t0.5,\t0.51,\t0.38,\t0.41,\t0.41,\t0.54,\t0.41,\t0.49,\t0.46,\t0.5,\t0.57,\t0.47,\t0.69,\t0.33,\t0.45,\t0.53,\t0.46,\t0.84,\t0.83,\t0.69,\t0.69,0.51,\t0.47,\t0.35,\t0.52,\t0.46,\t0.42,\t0.63,\t0.7,\t0.38,\t0.33,\t0.33,\t0.38,\t0.24,\t0.64,\t0.35,\t0.49,\t0.38,\t0.81,\t0.89,\n",
    "0.47,\t0.68,\t0.49,\t0.31,\t0.2,\t0.34,\t1,\t0.36,\t0.5,\t0.38,\t0.31,\t0.36,\t0.48,\t0.62,\t0.56,\t0.58,\t0.37,\t0.37,\t0.28,\t0.44,\t0.5,\t0.45,\t0.42,\t0.49,\t0.42,\t0.31,\t0.66,\t0.38,\t0.43,\t0.45,\t0.37,\t0.49,\t0.77,\t0.82,\t0.87])\n",
    "\n",
    "# Convert positive sentiment analysis percentages into binary values\n",
    "# Change the threshold to 0.55 to differentiate between high (1) and low (0) sentiment\n",
    "binary_sentiment = np.where(negative_sentiment > 0.55, 1, 0)\n",
    "\n",
    "# Create and fit the logistic regression model\n",
    "logistic_model = LogisticRegression(solver='lbfgs')\n",
    "logistic_model.fit(binary_sentiment.reshape(-1, 1), match_loss)\n",
    "\n",
    "# Calculate odds and probabilities\n",
    "intercept_odds = np.exp(logistic_model.intercept_)\n",
    "loss_odds = np.exp(logistic_model.intercept_ + logistic_model.coef_)\n",
    "\n",
    "intercept_prob = intercept_odds / (1 + intercept_odds)\n",
    "loss_prob = loss_odds / (1 + loss_odds)\n",
    "\n",
    "print(\"Intercept odds:\", intercept_odds)\n",
    "print(\"Loss odds:\", loss_odds)\n",
    "print(\"Intercept probability:\", intercept_prob)\n",
    "print(\"Loss probability:\", loss_prob)\n"
   ]
  }
 ],
 "metadata": {
  "kernelspec": {
   "display_name": "gpu-ienv",
   "language": "python",
   "name": "gpu-ienv"
  },
  "language_info": {
   "codemirror_mode": {
    "name": "ipython",
    "version": 3
   },
   "file_extension": ".py",
   "mimetype": "text/x-python",
   "name": "python",
   "nbconvert_exporter": "python",
   "pygments_lexer": "ipython3",
   "version": "3.9.16"
  },
  "orig_nbformat": 4
 },
 "nbformat": 4,
 "nbformat_minor": 2
}
