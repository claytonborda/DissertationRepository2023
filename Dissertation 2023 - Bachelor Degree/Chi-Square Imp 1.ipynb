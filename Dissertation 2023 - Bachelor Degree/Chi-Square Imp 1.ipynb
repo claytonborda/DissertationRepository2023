{
 "cells": [
  {
   "cell_type": "code",
   "execution_count": 2,
   "metadata": {},
   "outputs": [
    {
     "name": "stdout",
     "output_type": "stream",
     "text": [
      "Chi-Square test statistic: 3.75\n",
      "P-value: 0.052807511416113395\n",
      "Degrees of freedom: 1\n",
      "Expected frequencies:\n",
      " [[3. 2.]\n",
      " [3. 2.]]\n",
      "Cramer's V: 0.5448623679425842\n"
     ]
    }
   ],
   "source": [
    "# Import required libraries\n",
    "import pandas as pd\n",
    "import numpy as np\n",
    "from scipy.stats import chi2_contingency\n",
    "\n",
    "# Define a function to calculate Cramer's V\n",
    "def cramers_v(confusion_matrix):\n",
    "    chi2, p, dof, expected = chi2_contingency(confusion_matrix)\n",
    "    n = confusion_matrix.sum()\n",
    "    phi2 = chi2/n\n",
    "    r, k = confusion_matrix.shape\n",
    "    phi2corr = max(0, phi2 - ((k-1)*(r-1))/(n-1))\n",
    "    rcorr = r - ((r-1)**2)/(n-1)\n",
    "    kcorr = k - ((k-1)**2)/(n-1)\n",
    "    return np.sqrt(phi2corr/min((kcorr-1),(rcorr-1)))\n",
    "\n",
    "# Create the contingency table using pandas\n",
    "smoking = [\"Yes\", \"No\", \"Yes\", \"No\", \"No\", \"No\", \"Yes\", \"Yes\", \"No\", \"Yes\"]\n",
    "lungcancer = [\"Yes\", \"No\", \"Yes\", \"No\", \"No\", \"No\", \"Yes\", \"No\", \"No\", \"Yes\"]\n",
    "df = pd.DataFrame({\"smoking\": smoking, \"lungcancer\": lungcancer})\n",
    "smoking_lungcancer = pd.crosstab(df[\"smoking\"], df[\"lungcancer\"])\n",
    "\n",
    "# Perform the Chi-Square test\n",
    "chi2, p_value, dof, expected = chi2_contingency(smoking_lungcancer)\n",
    "\n",
    "# Calculate Cramer's V\n",
    "v_cramer = cramers_v(smoking_lungcancer.values)\n",
    "\n",
    "# Print the results\n",
    "print(\"Chi-Square test statistic:\", chi2)\n",
    "print(\"P-value:\", p_value)\n",
    "print(\"Degrees of freedom:\", dof)\n",
    "print(\"Expected frequencies:\\n\", expected)\n",
    "print(\"Cramer's V:\", v_cramer)\n"
   ]
  }
 ],
 "metadata": {
  "kernelspec": {
   "display_name": "Dissertation 2023",
   "language": "python",
   "name": "dissertation"
  },
  "language_info": {
   "codemirror_mode": {
    "name": "ipython",
    "version": 3
   },
   "file_extension": ".py",
   "mimetype": "text/x-python",
   "name": "python",
   "nbconvert_exporter": "python",
   "pygments_lexer": "ipython3",
   "version": "3.9.16"
  },
  "orig_nbformat": 4
 },
 "nbformat": 4,
 "nbformat_minor": 2
}
