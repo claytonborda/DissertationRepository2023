{
 "cells": [
  {
   "cell_type": "code",
   "execution_count": null,
   "metadata": {},
   "outputs": [],
   "source": [
    "import pandas as pd\n",
    "import snscrape.modules.twitter as sntwitter\n",
    "import os\n",
    "import pytz\n",
    "\n",
    "query = '#efc, min_faves:0 lang:en until:2021-08-16 since:2021-08-13 -filter:replies'\n",
    "\n",
    "data = []\n",
    "max_attempts = 5\n",
    "attempt_count = 0\n",
    "\n",
    "while attempt_count < max_attempts:\n",
    "    try:\n",
    "        for i, tweet in enumerate(sntwitter.TwitterSearchScraper(query).get_items()):\n",
    "            data.append([tweet.id, tweet.date.astimezone(pytz.UTC).replace(tzinfo=None), tweet.source, tweet.place,\n",
    "                         tweet.user.username, tweet.rawContent, tweet.hashtags, tweet.likeCount])\n",
    "        break\n",
    "    except Exception as e:\n",
    "        attempt_count += 1\n",
    "        print(f\"Attempt {attempt_count} failed. Error: {e}\")\n",
    "\n",
    "        if attempt_count == max_attempts:\n",
    "            print(\"All attempts failed. Exiting.\")\n",
    "            exit()\n",
    "\n",
    "Data = pd.DataFrame(data, columns=['id', 'date', 'source', 'place', 'username', 'Content', 'hashtags', 'Likes'])\n",
    "Data.to_excel('efcBOS_analysisV1hashtag.xlsx')\n"
   ]
  },
  {
   "cell_type": "code",
   "execution_count": null,
   "metadata": {},
   "outputs": [],
   "source": [
    "import pandas as pd\n",
    "import snscrape.modules.twitter as sntwitter\n",
    "import os \n",
    "import pytz\n",
    "\n",
    "query = '#cpfc, min_faves:0 lang:en until:2021-09-06 since:2021-09-05 -filter:replies'\n",
    "\n",
    "df = []\n",
    "for i,tweet in enumerate(sntwitter.TwitterSearchScraper(query).get_items()) : \n",
    "    df.append([tweet.id,tweet.date.astimezone(pytz.UTC).replace(tzinfo=None),tweet.source,tweet.place,tweet.user.username,tweet.rawContent,\n",
    "               tweet.hashtags,tweet.likeCount])\n",
    "Data = pd.DataFrame(df,columns=['id','date','source','place','username','Content','hashtags','Likes'])\n",
    "Data.to_excel('cpfcBOS_analysisV4hashtag.xlsx')"
   ]
  },
  {
   "cell_type": "code",
   "execution_count": null,
   "metadata": {},
   "outputs": [],
   "source": [
    "import pandas as pd\n",
    "import snscrape.modules.twitter as sntwitter\n",
    "import os \n",
    "import pytz\n",
    "\n",
    "query = '#southampton, min_faves:0 lang:en until:2022-01-01 since:2021-12-15 -filter:replies'\n",
    "\n",
    "df = []\n",
    "for i,tweet in enumerate(sntwitter.TwitterSearchScraper(query).get_items()) : \n",
    "    df.append([tweet.id,tweet.date.astimezone(pytz.UTC).replace(tzinfo=None),tweet.source,tweet.place,tweet.user.username,tweet.rawContent,\n",
    "               tweet.hashtags,tweet.likeCount])\n",
    "Data = pd.DataFrame(df,columns=['id','date','source','place','username','Content','hashtags','Likes'])\n",
    "Data.to_excel('southamptonMOS_analysisV3hashtag.xlsx')"
   ]
  }
 ],
 "metadata": {
  "kernelspec": {
   "display_name": "dissertation2023",
   "language": "python",
   "name": "python3"
  },
  "language_info": {
   "codemirror_mode": {
    "name": "ipython",
    "version": 3
   },
   "file_extension": ".py",
   "mimetype": "text/x-python",
   "name": "python",
   "nbconvert_exporter": "python",
   "pygments_lexer": "ipython3",
   "version": "3.9.16"
  },
  "orig_nbformat": 4
 },
 "nbformat": 4,
 "nbformat_minor": 2
}
